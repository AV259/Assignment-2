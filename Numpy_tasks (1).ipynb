{
  "cells": [
    {
      "cell_type": "markdown",
      "metadata": {
        "id": "STcd9mDbTKVW"
      },
      "source": [
        "# Numpy\n",
        "\n"
      ]
    },
    {
      "cell_type": "markdown",
      "metadata": {
        "id": "sMam5b-cTKVb"
      },
      "source": [
        "#### 1. Import the numpy package under the name `np` (★☆☆) \n",
        "(**hint**: import … as …)"
      ]
    },
    {
      "cell_type": "code",
      "execution_count": null,
      "metadata": {
        "collapsed": true,
        "id": "CAke-Gq1TKVc"
      },
      "outputs": [],
      "source": [
        "import numpy as np\n"
      ]
    },
    {
      "cell_type": "markdown",
      "metadata": {
        "id": "x8vvR9iKTKVd"
      },
      "source": [
        "#### 2. Print the numpy version and the configuration (★☆☆) \n",
        "(**hint**: np.\\_\\_version\\_\\_, np.show\\_config)"
      ]
    },
    {
      "cell_type": "code",
      "execution_count": null,
      "metadata": {
        "colab": {
          "base_uri": "https://localhost:8080/",
          "height": 36
        },
        "id": "zJrtvzjATKVd",
        "outputId": "6b2c0390-cb96-48f0-cc3b-a1567ef7e3dd"
      },
      "outputs": [
        {
          "output_type": "execute_result",
          "data": {
            "text/plain": [
              "'1.21.6'"
            ],
            "application/vnd.google.colaboratory.intrinsic+json": {
              "type": "string"
            }
          },
          "metadata": {},
          "execution_count": 7
        }
      ],
      "source": [
        "np.__version__"
      ]
    },
    {
      "cell_type": "markdown",
      "metadata": {
        "id": "qcYZ8ttATKVe"
      },
      "source": [
        "#### 3. Create a null vector of size 10 (★☆☆) \n",
        "(**hint**: np.zeros)"
      ]
    },
    {
      "cell_type": "code",
      "execution_count": null,
      "metadata": {
        "colab": {
          "base_uri": "https://localhost:8080/"
        },
        "id": "WAK9MKs9TKVe",
        "outputId": "61870049-cb70-46ea-a466-e4e7121e23c4"
      },
      "outputs": [
        {
          "output_type": "execute_result",
          "data": {
            "text/plain": [
              "array([0., 0., 0., 0., 0., 0., 0., 0., 0., 0.])"
            ]
          },
          "metadata": {},
          "execution_count": 8
        }
      ],
      "source": [
        "np.zeros(10)"
      ]
    },
    {
      "cell_type": "markdown",
      "metadata": {
        "id": "rLe-BiDqTKVf"
      },
      "source": [
        "#### 4.  How to find the memory size of any array (★☆☆) \n",
        "(**hint**: size, itemsize)"
      ]
    },
    {
      "cell_type": "code",
      "execution_count": null,
      "metadata": {
        "colab": {
          "base_uri": "https://localhost:8080/"
        },
        "id": "28tDH-7aTKVg",
        "outputId": "5c28cf20-69a3-4e51-d15e-01e9841030f1"
      },
      "outputs": [
        {
          "output_type": "stream",
          "name": "stdout",
          "text": [
            "4\n"
          ]
        }
      ],
      "source": [
        "x=np.array([2,4,1,5])\n",
        "print(x.size)"
      ]
    },
    {
      "cell_type": "markdown",
      "metadata": {
        "id": "L0WgmjpgTKVg"
      },
      "source": [
        "#### 5.  How to get the documentation of the numpy add function from the command line? (★☆☆) \n",
        "(**hint**: np.info)"
      ]
    },
    {
      "cell_type": "code",
      "execution_count": null,
      "metadata": {
        "collapsed": true,
        "colab": {
          "base_uri": "https://localhost:8080/"
        },
        "id": "JS977UYZTKVh",
        "outputId": "b6e8732d-2854-4ea9-bfe8-7eccb8e2894a"
      },
      "outputs": [
        {
          "output_type": "stream",
          "name": "stdout",
          "text": [
            "add(x1, x2, /, out=None, *, where=True, casting='same_kind', order='K', dtype=None, subok=True[, signature, extobj])\n",
            "\n",
            "Add arguments element-wise.\n",
            "\n",
            "Parameters\n",
            "----------\n",
            "x1, x2 : array_like\n",
            "    The arrays to be added.\n",
            "    If ``x1.shape != x2.shape``, they must be broadcastable to a common\n",
            "    shape (which becomes the shape of the output).\n",
            "out : ndarray, None, or tuple of ndarray and None, optional\n",
            "    A location into which the result is stored. If provided, it must have\n",
            "    a shape that the inputs broadcast to. If not provided or None,\n",
            "    a freshly-allocated array is returned. A tuple (possible only as a\n",
            "    keyword argument) must have length equal to the number of outputs.\n",
            "where : array_like, optional\n",
            "    This condition is broadcast over the input. At locations where the\n",
            "    condition is True, the `out` array will be set to the ufunc result.\n",
            "    Elsewhere, the `out` array will retain its original value.\n",
            "    Note that if an uninitialized `out` array is created via the default\n",
            "    ``out=None``, locations within it where the condition is False will\n",
            "    remain uninitialized.\n",
            "**kwargs\n",
            "    For other keyword-only arguments, see the\n",
            "    :ref:`ufunc docs <ufuncs.kwargs>`.\n",
            "\n",
            "Returns\n",
            "-------\n",
            "add : ndarray or scalar\n",
            "    The sum of `x1` and `x2`, element-wise.\n",
            "    This is a scalar if both `x1` and `x2` are scalars.\n",
            "\n",
            "Notes\n",
            "-----\n",
            "Equivalent to `x1` + `x2` in terms of array broadcasting.\n",
            "\n",
            "Examples\n",
            "--------\n",
            ">>> np.add(1.0, 4.0)\n",
            "5.0\n",
            ">>> x1 = np.arange(9.0).reshape((3, 3))\n",
            ">>> x2 = np.arange(3.0)\n",
            ">>> np.add(x1, x2)\n",
            "array([[  0.,   2.,   4.],\n",
            "       [  3.,   5.,   7.],\n",
            "       [  6.,   8.,  10.]])\n",
            "\n",
            "The ``+`` operator can be used as a shorthand for ``np.add`` on ndarrays.\n",
            "\n",
            ">>> x1 = np.arange(9.0).reshape((3, 3))\n",
            ">>> x2 = np.arange(3.0)\n",
            ">>> x1 + x2\n",
            "array([[ 0.,  2.,  4.],\n",
            "       [ 3.,  5.,  7.],\n",
            "       [ 6.,  8., 10.]])\n"
          ]
        }
      ],
      "source": [
        "np.info(np.add)"
      ]
    },
    {
      "cell_type": "markdown",
      "metadata": {
        "id": "gY-_CGaMTKVh"
      },
      "source": [
        "#### 6.  Create a null vector of size 10 but the fifth value which is 1 (★☆☆) \n",
        "(**hint**: array\\[4\\])"
      ]
    },
    {
      "cell_type": "code",
      "execution_count": null,
      "metadata": {
        "colab": {
          "base_uri": "https://localhost:8080/"
        },
        "id": "iGyk89GMTKVh",
        "outputId": "104cce94-c894-4be3-8ceb-fde0897a419f"
      },
      "outputs": [
        {
          "output_type": "stream",
          "name": "stdout",
          "text": [
            "[0. 0. 0. 0. 1. 0. 0. 0. 0. 0.]\n"
          ]
        }
      ],
      "source": [
        "n=np.zeros(10)\n",
        "n[4]=1\n",
        "print(n)"
      ]
    },
    {
      "cell_type": "markdown",
      "metadata": {
        "id": "0wRnrtl_TKVi"
      },
      "source": [
        "#### 7.  Create a vector with values ranging from 10 to 49 (★☆☆) \n",
        "(**hint**: np.arange)"
      ]
    },
    {
      "cell_type": "code",
      "execution_count": null,
      "metadata": {
        "colab": {
          "base_uri": "https://localhost:8080/"
        },
        "id": "lAUjSolATKVi",
        "outputId": "985fd3e1-764d-4983-c6bb-df9b47bb9853"
      },
      "outputs": [
        {
          "output_type": "execute_result",
          "data": {
            "text/plain": [
              "array([10, 11, 12, 13, 14, 15, 16, 17, 18, 19, 20, 21, 22, 23, 24, 25, 26,\n",
              "       27, 28, 29, 30, 31, 32, 33, 34, 35, 36, 37, 38, 39, 40, 41, 42, 43,\n",
              "       44, 45, 46, 47, 48])"
            ]
          },
          "metadata": {},
          "execution_count": 12
        }
      ],
      "source": [
        "np.arange(10,49)"
      ]
    },
    {
      "cell_type": "markdown",
      "metadata": {
        "id": "kChGy2DiTKVi"
      },
      "source": [
        "#### 8.  Reverse a vector (first element becomes last) (★☆☆) \n",
        "(**hint**: array\\[::-1\\])"
      ]
    },
    {
      "cell_type": "code",
      "execution_count": null,
      "metadata": {
        "colab": {
          "base_uri": "https://localhost:8080/"
        },
        "id": "0KhMX6RITKVj",
        "outputId": "65bc3461-3752-4331-b259-c776b4ae2f2d"
      },
      "outputs": [
        {
          "output_type": "stream",
          "name": "stdout",
          "text": [
            "[5 7 1 4 2]\n"
          ]
        }
      ],
      "source": [
        "x=np.array([2,4,1,7,5])\n",
        "print(x[::-1])"
      ]
    },
    {
      "cell_type": "markdown",
      "metadata": {
        "id": "Y_udXLVZTKVj"
      },
      "source": [
        "#### 9.  Create a 3x3 matrix with values ranging from 0 to 8 (★☆☆) \n",
        "(**hint**: reshape)"
      ]
    },
    {
      "cell_type": "code",
      "execution_count": null,
      "metadata": {
        "colab": {
          "base_uri": "https://localhost:8080/"
        },
        "id": "oSyFU_jtTKVj",
        "outputId": "2e6aa37f-5018-41da-8dd0-0d42148e02b5"
      },
      "outputs": [
        {
          "output_type": "stream",
          "name": "stdout",
          "text": [
            "[[0 1 2]\n",
            " [3 4 5]\n",
            " [6 7 8]]\n"
          ]
        }
      ],
      "source": [
        "x = np.arange(0,9).reshape(3,3)\n",
        "print(x)"
      ]
    },
    {
      "cell_type": "markdown",
      "metadata": {
        "id": "WE5WoFC6TKVk"
      },
      "source": [
        "#### 10. Find indices of non-zero elements from \\[1,2,0,0,4,0\\] (★☆☆) \n",
        "(**hint**: np.nonzero)"
      ]
    },
    {
      "cell_type": "code",
      "execution_count": null,
      "metadata": {
        "colab": {
          "base_uri": "https://localhost:8080/"
        },
        "id": "3dauFTrLTKVk",
        "outputId": "2344cdce-18d1-48e6-e867-788604adfd65"
      },
      "outputs": [
        {
          "output_type": "stream",
          "name": "stdout",
          "text": [
            "(array([0, 1, 4]),)\n"
          ]
        }
      ],
      "source": [
        "x=np.array([1,2,0,0,4,0])\n",
        "print(np.nonzero(x))"
      ]
    },
    {
      "cell_type": "markdown",
      "source": [
        ""
      ],
      "metadata": {
        "id": "J-pIdY7eYLkT"
      }
    },
    {
      "cell_type": "markdown",
      "metadata": {
        "id": "va32zi6yTKVk"
      },
      "source": [
        "#### 11. Create a 3x3 identity matrix (★☆☆) \n",
        "(**hint**: np.eye)"
      ]
    },
    {
      "cell_type": "code",
      "execution_count": null,
      "metadata": {
        "colab": {
          "base_uri": "https://localhost:8080/"
        },
        "id": "Rz7RaCLxTKVl",
        "outputId": "f1a64a26-d75d-44c8-fecb-98f05c3803ca"
      },
      "outputs": [
        {
          "output_type": "execute_result",
          "data": {
            "text/plain": [
              "array([[1., 0., 0.],\n",
              "       [0., 1., 0.],\n",
              "       [0., 0., 1.]])"
            ]
          },
          "metadata": {},
          "execution_count": 16
        }
      ],
      "source": [
        "np.identity(3)"
      ]
    },
    {
      "cell_type": "markdown",
      "metadata": {
        "id": "H8iqCbYxTKVl"
      },
      "source": [
        "#### 12. Create a 3x3x3 array with random values (★☆☆) \n",
        "(**hint**: np.random.random)"
      ]
    },
    {
      "cell_type": "code",
      "execution_count": null,
      "metadata": {
        "collapsed": true,
        "colab": {
          "base_uri": "https://localhost:8080/"
        },
        "id": "z5vhiLJATKVl",
        "outputId": "da31c13c-a57b-4e1b-8f8e-d582757c03f5"
      },
      "outputs": [
        {
          "output_type": "stream",
          "name": "stdout",
          "text": [
            "[[[0.03233417 0.45305791 0.28246049]\n",
            "  [0.10993666 0.63136379 0.22337144]\n",
            "  [0.97562113 0.44472512 0.29753406]]\n",
            "\n",
            " [[0.24665189 0.50449377 0.11729908]\n",
            "  [0.4984363  0.32229403 0.55029536]\n",
            "  [0.82756302 0.36994699 0.31609255]]\n",
            "\n",
            " [[0.44672249 0.09899661 0.20438739]\n",
            "  [0.55918749 0.93399972 0.94017084]\n",
            "  [0.89042514 0.35226897 0.21106327]]]\n"
          ]
        }
      ],
      "source": [
        "arr = np.random.random(27).reshape(3,3,3)\n",
        "print(arr)"
      ]
    },
    {
      "cell_type": "markdown",
      "metadata": {
        "id": "iCBo9A0-TKVl"
      },
      "source": [
        "#### 13. Create a 10x10 array with random values and find the minimum and maximum values (★☆☆) \n",
        "(**hint**: min, max)"
      ]
    },
    {
      "cell_type": "code",
      "execution_count": null,
      "metadata": {
        "colab": {
          "base_uri": "https://localhost:8080/"
        },
        "id": "TP0SuwirTKVm",
        "outputId": "6dbf5281-c2d2-4d7e-c153-679c7f7025d3"
      },
      "outputs": [
        {
          "output_type": "stream",
          "name": "stdout",
          "text": [
            "[[0.79701506 0.76513563 0.28770008 0.88752987 0.04831461 0.93633698\n",
            "  0.38376607 0.77407212 0.65600227 0.9088313 ]\n",
            " [0.76849937 0.16202081 0.6484059  0.70081937 0.45211563 0.80137601\n",
            "  0.49532991 0.81714768 0.9452118  0.29074221]\n",
            " [0.61313292 0.86503911 0.34817032 0.17027391 0.21115716 0.52221248\n",
            "  0.55239191 0.78651317 0.03517884 0.52109372]\n",
            " [0.34133828 0.99615013 0.34544809 0.50723997 0.21726769 0.2950057\n",
            "  0.26959251 0.70677204 0.6170371  0.71244133]\n",
            " [0.84401277 0.16505402 0.56268092 0.22440007 0.81795648 0.70982838\n",
            "  0.61987926 0.97429826 0.1523847  0.92389945]\n",
            " [0.80540409 0.2792039  0.239672   0.54935819 0.76639468 0.32877121\n",
            "  0.05177409 0.19837779 0.03660827 0.08891725]\n",
            " [0.60593682 0.90849489 0.87488351 0.90987059 0.41255169 0.31970238\n",
            "  0.98010842 0.54663697 0.8754743  0.62849981]\n",
            " [0.23894566 0.97086422 0.94814969 0.82454986 0.20287075 0.62431188\n",
            "  0.34043758 0.54784275 0.67550575 0.15924974]\n",
            " [0.46711751 0.86462201 0.55512102 0.56281922 0.49364497 0.72528402\n",
            "  0.88675222 0.06698191 0.53414339 0.41446786]\n",
            " [0.52700291 0.38573793 0.42105594 0.15150662 0.43281032 0.12672401\n",
            "  0.02309315 0.06057155 0.49490691 0.50566659]]\n",
            "Min 0.023093150712317212\n",
            "Max 0.996150134128251\n"
          ]
        }
      ],
      "source": [
        "x=np.random.random(size=(10,10))\n",
        "print(x)\n",
        "print('Min',np.min(x))\n",
        "print('Max',np.max(x))"
      ]
    },
    {
      "cell_type": "markdown",
      "metadata": {
        "id": "i5UwJEDSTKVm"
      },
      "source": [
        "#### 14. Create a random vector of size 30 and find the mean value (★☆☆) \n",
        "(**hint**: mean)"
      ]
    },
    {
      "cell_type": "code",
      "execution_count": null,
      "metadata": {
        "colab": {
          "base_uri": "https://localhost:8080/"
        },
        "id": "Qpl4kCYWTKVm",
        "outputId": "2058d16e-e82d-497f-acb5-a30affa2be61"
      },
      "outputs": [
        {
          "output_type": "stream",
          "name": "stdout",
          "text": [
            "[0.61247937 0.32805219 0.25407665 0.00208974 0.88363187 0.76776031\n",
            " 0.86554896 0.66877925 0.16418794 0.57125749 0.44001397 0.933281\n",
            " 0.56652063 0.67158443 0.67525419 0.81442208 0.5670426  0.6304313\n",
            " 0.41384677 0.72112838 0.04247905 0.01937015 0.25156314 0.02600714\n",
            " 0.53018274 0.47715358 0.0700202  0.11455169 0.76717537 0.99973803]\n",
            "\n",
            "mean  0.4949876733409495\n"
          ]
        }
      ],
      "source": [
        "x=np.random.random(size=30)\n",
        "print(x)\n",
        "print()\n",
        "print('mean ',np.mean(x))"
      ]
    },
    {
      "cell_type": "markdown",
      "metadata": {
        "id": "MSIZz3n2TKVm"
      },
      "source": [
        "#### 15. Create a 2d array with 1 on the border and 0 inside (★☆☆) \n",
        "(**hint**: array\\[1:-1, 1:-1\\])"
      ]
    },
    {
      "cell_type": "code",
      "execution_count": null,
      "metadata": {
        "colab": {
          "base_uri": "https://localhost:8080/"
        },
        "id": "n_6JMId2TKVn",
        "outputId": "3dc54fc4-c2e5-433a-cabe-1f750d5507d4"
      },
      "outputs": [
        {
          "output_type": "stream",
          "name": "stdout",
          "text": [
            "[[1. 1. 1. 1. 1.]\n",
            " [1. 0. 0. 0. 1.]\n",
            " [1. 0. 0. 0. 1.]\n",
            " [1. 0. 0. 0. 1.]\n",
            " [1. 1. 1. 1. 1.]]\n"
          ]
        }
      ],
      "source": [
        "x=np.ones((5,5))\n",
        "x[1:-1,1:-1]=0\n",
        "print(x)"
      ]
    },
    {
      "cell_type": "markdown",
      "metadata": {
        "id": "KHog3Q88TKVn"
      },
      "source": [
        "#### 16. How to add a border (filled with 0's) around an existing array? (★☆☆) \n",
        "(**hint**: np.pad)"
      ]
    },
    {
      "cell_type": "code",
      "execution_count": null,
      "metadata": {
        "colab": {
          "base_uri": "https://localhost:8080/"
        },
        "id": "wsEMEASBTKVn",
        "outputId": "b71b1c32-f384-42f5-a771-d657fb16b597"
      },
      "outputs": [
        {
          "output_type": "execute_result",
          "data": {
            "text/plain": [
              "array([[0., 0., 0., 0., 0., 0., 0.],\n",
              "       [0., 1., 1., 1., 1., 1., 0.],\n",
              "       [0., 1., 1., 1., 1., 1., 0.],\n",
              "       [0., 1., 1., 1., 1., 1., 0.],\n",
              "       [0., 1., 1., 1., 1., 1., 0.],\n",
              "       [0., 1., 1., 1., 1., 1., 0.],\n",
              "       [0., 0., 0., 0., 0., 0., 0.]])"
            ]
          },
          "metadata": {},
          "execution_count": 21
        }
      ],
      "source": [
        "arr=np.ones((5,5))\n",
        "np.pad(arr,pad_width=1)"
      ]
    },
    {
      "cell_type": "markdown",
      "metadata": {
        "id": "GWDJak75TKVn"
      },
      "source": [
        "#### 17. What is the result of the following expression? (★☆☆) \n",
        "(**hint**: NaN = not a number, inf = infinity)"
      ]
    },
    {
      "cell_type": "markdown",
      "metadata": {
        "id": "K2iENZa2TKVn"
      },
      "source": [
        "```python\n",
        "0 * np.nan\n",
        "np.nan == np.nan\n",
        "np.inf > np.nan\n",
        "np.nan - np.nan\n",
        "0.3 == 3 * 0.1\n",
        "```"
      ]
    },
    {
      "cell_type": "code",
      "execution_count": null,
      "metadata": {
        "id": "SgLGG2C_TKVo"
      },
      "outputs": [],
      "source": [
        "Nan\n",
        "True\n",
        "True\n",
        "Nan\n",
        "True"
      ]
    },
    {
      "cell_type": "markdown",
      "metadata": {
        "id": "8abpvE_zTKVo"
      },
      "source": [
        "#### 18. Create a 5x5 matrix with values 1,2,3,4 just below the diagonal (★☆☆) \n",
        "(**hint**: np.diag)"
      ]
    },
    {
      "cell_type": "code",
      "execution_count": null,
      "metadata": {
        "id": "Baj_GiqLTKVo",
        "colab": {
          "base_uri": "https://localhost:8080/"
        },
        "outputId": "8367c339-0a93-4906-b59c-333257278aeb"
      },
      "outputs": [
        {
          "output_type": "stream",
          "name": "stdout",
          "text": [
            "[[0 0 0 0 0]\n",
            " [1 0 0 0 0]\n",
            " [0 2 0 0 0]\n",
            " [0 0 3 0 0]\n",
            " [0 0 0 4 0]]\n"
          ]
        }
      ],
      "source": [
        "arr=np.zeros((5,5))\n",
        "arr = np.diag(v=[1,2,3,4],k=-1)\n",
        "print(arr)"
      ]
    },
    {
      "cell_type": "markdown",
      "metadata": {
        "id": "8fp8DEOVTKVp"
      },
      "source": [
        "#### 19. Create a 8x8 matrix and fill it with a checkerboard pattern (★☆☆) \n",
        "(**hint**: array\\[::2\\])"
      ]
    },
    {
      "cell_type": "code",
      "execution_count": null,
      "metadata": {
        "id": "teclXJyPTKVp",
        "colab": {
          "base_uri": "https://localhost:8080/"
        },
        "outputId": "6da62b38-eab4-40fc-8ebe-b74c32405bcd"
      },
      "outputs": [
        {
          "output_type": "stream",
          "name": "stdout",
          "text": [
            "[[0. 1. 0. 1. 0. 1. 0. 1.]\n",
            " [1. 0. 1. 0. 1. 0. 1. 0.]\n",
            " [0. 1. 0. 1. 0. 1. 0. 1.]\n",
            " [1. 0. 1. 0. 1. 0. 1. 0.]\n",
            " [0. 1. 0. 1. 0. 1. 0. 1.]\n",
            " [1. 0. 1. 0. 1. 0. 1. 0.]\n",
            " [0. 1. 0. 1. 0. 1. 0. 1.]\n",
            " [1. 0. 1. 0. 1. 0. 1. 0.]]\n"
          ]
        }
      ],
      "source": [
        "arr=np.zeros((8,8))\n",
        "arr[1::2,0::2]=1\n",
        "arr[0::2,1::2]=1\n",
        "print(arr)"
      ]
    },
    {
      "cell_type": "markdown",
      "metadata": {
        "id": "Cy2X3o1oTKVp"
      },
      "source": [
        "#### 20. Consider a (6,7,8) shape array, what is the index (x,y,z) of the 100th element? \n",
        "(**hint**: np.unravel_index)"
      ]
    },
    {
      "cell_type": "code",
      "execution_count": null,
      "metadata": {
        "id": "5K3KVG0ZTKVp",
        "colab": {
          "base_uri": "https://localhost:8080/"
        },
        "outputId": "c9d021b8-7a90-4758-9213-6c7dfb64758b"
      },
      "outputs": [
        {
          "output_type": "stream",
          "name": "stdout",
          "text": [
            "(1, 5, 3)\n"
          ]
        }
      ],
      "source": [
        "print(np.unravel_index(99,(6,7,8)))"
      ]
    },
    {
      "cell_type": "markdown",
      "metadata": {
        "id": "Kws-g16ITKVp"
      },
      "source": [
        "#### 21. Create a checkerboard 8x8 matrix using the tile function (★☆☆) \n",
        "(**hint**: np.tile)"
      ]
    },
    {
      "cell_type": "code",
      "execution_count": null,
      "metadata": {
        "id": "rKzm8_9tTKVq",
        "colab": {
          "base_uri": "https://localhost:8080/"
        },
        "outputId": "d8a4fea7-9b3e-4a2a-a81a-42c75263467b"
      },
      "outputs": [
        {
          "output_type": "stream",
          "name": "stdout",
          "text": [
            "[[0 1 0 1 0 1 0 1]\n",
            " [0 1 0 1 0 1 0 1]\n",
            " [0 1 0 1 0 1 0 1]\n",
            " [0 1 0 1 0 1 0 1]\n",
            " [0 1 0 1 0 1 0 1]\n",
            " [0 1 0 1 0 1 0 1]\n",
            " [0 1 0 1 0 1 0 1]\n",
            " [0 1 0 1 0 1 0 1]]\n"
          ]
        }
      ],
      "source": [
        "arr=[0,1]\n",
        "new=np.tile(arr,(8,4))\n",
        "print(new)"
      ]
    },
    {
      "cell_type": "markdown",
      "metadata": {
        "id": "yQ3tG80nTKVq"
      },
      "source": [
        "#### 22. Normalize a 5x5 random matrix (★☆☆) \n",
        "(**hint**: (x - min) / (max - min))"
      ]
    },
    {
      "cell_type": "code",
      "execution_count": null,
      "metadata": {
        "id": "B_TaOV3sTKVq",
        "colab": {
          "base_uri": "https://localhost:8080/"
        },
        "outputId": "98056c96-5ccd-4820-ba19-2502d59154b7"
      },
      "outputs": [
        {
          "output_type": "stream",
          "name": "stdout",
          "text": [
            "[[ 0.3497233  -0.247337   -0.81337148  1.2019311   1.44018067]\n",
            " [ 0.35707013  1.5392277   0.15517228 -0.25964936 -0.31280605]\n",
            " [ 1.1417168  -1.66061441 -1.06989893 -0.55820581  1.10800608]\n",
            " [ 0.79828271 -0.54726137 -1.40500813 -0.00452235  0.43276224]\n",
            " [-1.64861089 -0.7261557   0.10305709 -1.21244802  1.83875942]]\n"
          ]
        }
      ],
      "source": [
        "Z = np.random.random((5,5))\n",
        "Z = (Z - np.mean (Z)) / (np.std (Z))\n",
        "print(Z)"
      ]
    },
    {
      "cell_type": "markdown",
      "metadata": {
        "id": "GEXejc4yTKVq"
      },
      "source": [
        "#### 23. Create a custom dtype that describes a color as four unsigned bytes (RGBA) (★☆☆) \n",
        "(**hint**: np.dtype)"
      ]
    },
    {
      "cell_type": "code",
      "execution_count": null,
      "metadata": {
        "collapsed": true,
        "id": "mZogWuevTKVr"
      },
      "outputs": [],
      "source": [
        "color = np.dtype([(\"r\", np.ubyte),\n",
        "                  (\"g\", np.ubyte),\n",
        "                  (\"b\", np.ubyte),\n",
        "                  (\"a\", np.ubyte)])"
      ]
    },
    {
      "cell_type": "markdown",
      "metadata": {
        "id": "Bg_V28r1TKVr"
      },
      "source": [
        "#### 24. Multiply a 5x3 matrix by a 3x2 matrix (real matrix product) (★☆☆) \n",
        "(**hint**: np.dot | @)"
      ]
    },
    {
      "cell_type": "code",
      "execution_count": null,
      "metadata": {
        "id": "XL96pPpVTKVr",
        "colab": {
          "base_uri": "https://localhost:8080/"
        },
        "outputId": "0cb47fb6-266e-4ffd-87c2-127274c3af73"
      },
      "outputs": [
        {
          "output_type": "stream",
          "name": "stdout",
          "text": [
            "[[3. 3.]\n",
            " [3. 3.]\n",
            " [3. 3.]\n",
            " [3. 3.]\n",
            " [3. 3.]]\n"
          ]
        }
      ],
      "source": [
        "Z = np.dot(np.ones((5,3)), np.ones((3,2)))\n",
        "print(Z)"
      ]
    },
    {
      "cell_type": "markdown",
      "metadata": {
        "id": "k_RiE6DnTKVr"
      },
      "source": [
        "#### 25. Given a 1D array, negate all elements which are between 3 and 8, in place. (★☆☆) \n",
        "(**hint**: >, <=)"
      ]
    },
    {
      "cell_type": "code",
      "execution_count": null,
      "metadata": {
        "id": "uqeZ7ApyTKVr",
        "colab": {
          "base_uri": "https://localhost:8080/"
        },
        "outputId": "b8f253f4-71e2-41f1-dc77-192db215126d"
      },
      "outputs": [
        {
          "output_type": "stream",
          "name": "stdout",
          "text": [
            "[ 0  1  2  3 -4 -5 -6 -7  8  9 10]\n"
          ]
        }
      ],
      "source": [
        "Z = np.arange(11)\n",
        "Z[(3 < Z) & (Z < 8)] *= -1\n",
        "print(Z)"
      ]
    },
    {
      "cell_type": "markdown",
      "metadata": {
        "id": "LNFTR_y3TKVr"
      },
      "source": [
        "#### 26. What is the output of the following script? (★☆☆) \n",
        "(**hint**: np.sum)"
      ]
    },
    {
      "cell_type": "markdown",
      "metadata": {
        "id": "x1us2ijsTKVs"
      },
      "source": [
        "```python\n",
        "# Author: Jake VanderPlas\n",
        "\n",
        "print(sum(range(5),-1))\n",
        "from numpy import *\n",
        "print(sum(range(5),-1))\n",
        "```"
      ]
    },
    {
      "cell_type": "code",
      "execution_count": null,
      "metadata": {
        "id": "v_sj7uaDTKVs"
      },
      "outputs": [],
      "source": [
        "error"
      ]
    },
    {
      "cell_type": "markdown",
      "metadata": {
        "id": "MQgUrEkiTKVs"
      },
      "source": [
        "#### 27. Consider an integer vector Z, which of these expressions are legal? (★☆☆)"
      ]
    },
    {
      "cell_type": "markdown",
      "metadata": {
        "id": "26YcTkW9TKVs"
      },
      "source": [
        "```python\n",
        "Z**Z\n",
        "2 << Z >> 2\n",
        "Z <- Z\n",
        "1j*Z\n",
        "Z/1/1\n",
        "Z<Z>Z\n",
        "```"
      ]
    },
    {
      "cell_type": "code",
      "execution_count": null,
      "metadata": {
        "id": "UFuAT1T9TKVs"
      },
      "outputs": [],
      "source": [
        "Z**Z"
      ]
    },
    {
      "cell_type": "markdown",
      "metadata": {
        "id": "zRl6Yyv2TKVs"
      },
      "source": [
        "#### 28. What are the result of the following expressions?"
      ]
    },
    {
      "cell_type": "markdown",
      "metadata": {
        "id": "8PIFBNQwTKVt"
      },
      "source": [
        "```python\n",
        "np.array(0) / np.array(0)\n",
        "np.array(0) // np.array(0)\n",
        "np.array([np.nan]).astype(int).astype(float)\n",
        "```"
      ]
    },
    {
      "cell_type": "code",
      "execution_count": null,
      "metadata": {
        "id": "DVblrbWmTKVt"
      },
      "outputs": [],
      "source": [
        "0\n",
        "0.0\n",
        "nan"
      ]
    },
    {
      "cell_type": "markdown",
      "metadata": {
        "id": "1vOK_MdSTKVt"
      },
      "source": [
        "#### 29. How to round away from zero a float array ? (★☆☆) \n",
        "(**hint**: np.uniform, np.copysign, np.ceil, np.abs)"
      ]
    },
    {
      "cell_type": "code",
      "execution_count": null,
      "metadata": {
        "id": "bdhOE-vzTKVt",
        "colab": {
          "base_uri": "https://localhost:8080/"
        },
        "outputId": "a039ea9e-7f5e-4eca-e338-905e681f7b28"
      },
      "outputs": [
        {
          "output_type": "stream",
          "name": "stdout",
          "text": [
            "[ 0.  1.  2.  3. -4. -5. -6. -7.  8.  9. 10.]\n"
          ]
        }
      ],
      "source": [
        "print(np.where(Z>0, np.ceil(Z), np.floor(Z)))"
      ]
    },
    {
      "cell_type": "markdown",
      "metadata": {
        "id": "yYLtuM1GTKVt"
      },
      "source": [
        "#### 30. How to find common values between two arrays? (★☆☆) \n",
        "(**hint**: np.intersect1d)"
      ]
    },
    {
      "cell_type": "code",
      "execution_count": null,
      "metadata": {
        "id": "0yUhdDntTKVt",
        "colab": {
          "base_uri": "https://localhost:8080/"
        },
        "outputId": "21c6df1a-2cc8-4fe8-de19-92dea5430c0a"
      },
      "outputs": [
        {
          "output_type": "stream",
          "name": "stdout",
          "text": [
            "[0 2 6 8]\n"
          ]
        }
      ],
      "source": [
        "Z1 = np.random.randint(0,10,10)\n",
        "Z2 = np.random.randint(0,10,10)\n",
        "print(np.intersect1d(Z1,Z2))"
      ]
    },
    {
      "cell_type": "markdown",
      "metadata": {
        "id": "TCmIu5glTKVt"
      },
      "source": [
        "#### 31. How to ignore all numpy warnings (not recommended)? (★☆☆) \n",
        "(**hint**: np.seterr, np.errstate)"
      ]
    },
    {
      "cell_type": "code",
      "execution_count": null,
      "metadata": {
        "id": "Kn0wSiKvTKVu"
      },
      "outputs": [],
      "source": [
        ""
      ]
    },
    {
      "cell_type": "markdown",
      "metadata": {
        "id": "b8U7vnpPTKVu"
      },
      "source": [
        "#### 32. Is the following expressions true? (★☆☆) \n",
        "(**hint**: imaginary number)"
      ]
    },
    {
      "cell_type": "markdown",
      "metadata": {
        "id": "GRh390E8TKVu"
      },
      "source": [
        "```python\n",
        "np.sqrt(-1) == np.emath.sqrt(-1)\n",
        "```"
      ]
    },
    {
      "cell_type": "code",
      "execution_count": null,
      "metadata": {
        "id": "6mBgst0GTKVu"
      },
      "outputs": [],
      "source": [
        "False"
      ]
    },
    {
      "cell_type": "markdown",
      "metadata": {
        "id": "jd8xGRACTKVu"
      },
      "source": [
        "#### 33. How to get the dates of yesterday, today and tomorrow? (★☆☆) \n",
        "(**hint**: np.datetime64, np.timedelta64)"
      ]
    },
    {
      "cell_type": "code",
      "execution_count": null,
      "metadata": {
        "collapsed": true,
        "id": "UbCtu4wZTKVu",
        "colab": {
          "base_uri": "https://localhost:8080/"
        },
        "outputId": "a31bd952-e243-4b35-9ea5-c7b694c599f9"
      },
      "outputs": [
        {
          "output_type": "stream",
          "name": "stdout",
          "text": [
            "2022-07-24\n",
            "2022-07-25\n",
            "2022-07-26\n"
          ]
        }
      ],
      "source": [
        "yesterday = np.datetime64('today') - np.timedelta64(1)\n",
        "today     = np.datetime64('today')\n",
        "tomorrow  = np.datetime64('today') + np.timedelta64(1)\n",
        "print(yesterday)\n",
        "print(today)\n",
        "print(tomorrow)"
      ]
    },
    {
      "cell_type": "markdown",
      "metadata": {
        "id": "Z73pYtPwTKVu"
      },
      "source": [
        "#### 34. How to get all the dates corresponding to the month of July 2016? (★★☆) \n",
        "(**hint**: np.arange(dtype=datetime64\\['D'\\]))"
      ]
    },
    {
      "cell_type": "code",
      "execution_count": null,
      "metadata": {
        "id": "9f82EJxcTKVv",
        "colab": {
          "base_uri": "https://localhost:8080/"
        },
        "outputId": "ad335827-a886-48b3-a966-7b76b4d29699"
      },
      "outputs": [
        {
          "output_type": "stream",
          "name": "stdout",
          "text": [
            "['2016-07-01' '2016-07-02' '2016-07-03' '2016-07-04' '2016-07-05'\n",
            " '2016-07-06' '2016-07-07' '2016-07-08' '2016-07-09' '2016-07-10'\n",
            " '2016-07-11' '2016-07-12' '2016-07-13' '2016-07-14' '2016-07-15'\n",
            " '2016-07-16' '2016-07-17' '2016-07-18' '2016-07-19' '2016-07-20'\n",
            " '2016-07-21' '2016-07-22' '2016-07-23' '2016-07-24' '2016-07-25'\n",
            " '2016-07-26' '2016-07-27' '2016-07-28' '2016-07-29' '2016-07-30'\n",
            " '2016-07-31']\n"
          ]
        }
      ],
      "source": [
        "Z = np.arange('2016-07', '2016-08', dtype='datetime64[D]')\n",
        "print(Z)"
      ]
    },
    {
      "cell_type": "markdown",
      "metadata": {
        "id": "OmnSyVGxTKVv"
      },
      "source": [
        "#### 35. How to compute ((A+B)\\*(-A/2)) in place (without copy)? (★★☆) \n",
        "(**hint**: np.add(out=), np.negative(out=), np.multiply(out=), np.divide(out=))"
      ]
    },
    {
      "cell_type": "code",
      "execution_count": null,
      "metadata": {
        "id": "krE5cMhLTKVv",
        "colab": {
          "base_uri": "https://localhost:8080/"
        },
        "outputId": "d444c8d0-a435-484f-8dfc-dd04dc4e2b11"
      },
      "outputs": [
        {
          "output_type": "execute_result",
          "data": {
            "text/plain": [
              "array([-1.5, -1.5, -1.5])"
            ]
          },
          "metadata": {},
          "execution_count": 14
        }
      ],
      "source": [
        "A = np.ones(3)*1\n",
        "B = np.ones(3)*2\n",
        "np.add(A,B,out=B)\n",
        "np.divide(A,2,out=A)\n",
        "np.negative(A,out=A)\n",
        "np.multiply(A,B,out=A)"
      ]
    },
    {
      "cell_type": "markdown",
      "metadata": {
        "id": "B9dKp5xSTKVv"
      },
      "source": [
        "#### 36. Extract the integer part of a random array using 5 different methods (★★☆) \n",
        "(**hint**: %, np.floor, np.ceil, astype, np.trunc)"
      ]
    },
    {
      "cell_type": "code",
      "execution_count": null,
      "metadata": {
        "id": "_lRDZ6TBTKVv",
        "colab": {
          "base_uri": "https://localhost:8080/"
        },
        "outputId": "2e16f422-af8f-40fb-8119-b4c9a353c9a7"
      },
      "outputs": [
        {
          "output_type": "stream",
          "name": "stdout",
          "text": [
            "[6. 0. 9. 7. 0. 0. 5. 0. 5. 8.]\n",
            "[6. 0. 9. 7. 0. 0. 5. 0. 5. 8.]\n",
            "[6. 0. 9. 7. 0. 0. 5. 0. 5. 8.]\n",
            "[6 0 9 7 0 0 5 0 5 8]\n",
            "[6. 0. 9. 7. 0. 0. 5. 0. 5. 8.]\n"
          ]
        }
      ],
      "source": [
        "Z = np.random.uniform(0,10,10)\n",
        "\n",
        "print(Z - Z%1)\n",
        "print(Z // 1)\n",
        "print(np.floor(Z))\n",
        "print(Z.astype(int))\n",
        "print(np.trunc(Z))"
      ]
    },
    {
      "cell_type": "markdown",
      "metadata": {
        "id": "wKcD2HRUTKVv"
      },
      "source": [
        "#### 37. Create a 5x5 matrix with row values ranging from 0 to 4 (★★☆) \n",
        "(**hint**: np.arange)"
      ]
    },
    {
      "cell_type": "code",
      "execution_count": null,
      "metadata": {
        "id": "c0tOFrd1TKVv",
        "colab": {
          "base_uri": "https://localhost:8080/"
        },
        "outputId": "83ea9b02-d4d7-456f-f49a-f3fe40c4a31a"
      },
      "outputs": [
        {
          "output_type": "stream",
          "name": "stdout",
          "text": [
            "[[0 1 2 3 4]\n",
            " [0 1 2 3 4]\n",
            " [0 1 2 3 4]\n",
            " [0 1 2 3 4]\n",
            " [0 1 2 3 4]]\n"
          ]
        }
      ],
      "source": [
        "Z = np.tile(np.arange(0, 5), (5,1))\n",
        "print(Z)"
      ]
    },
    {
      "cell_type": "markdown",
      "metadata": {
        "id": "DqKDL7RGTKVw"
      },
      "source": [
        "#### 38. Consider a generator function that generates 10 integers and use it to build an array (★☆☆) \n",
        "(**hint**: np.fromiter)"
      ]
    },
    {
      "cell_type": "code",
      "execution_count": null,
      "metadata": {
        "id": "_T3DktrBTKVw",
        "colab": {
          "base_uri": "https://localhost:8080/"
        },
        "outputId": "4bad79bb-63ff-4d57-c0cc-e15ede69f7a6"
      },
      "outputs": [
        {
          "output_type": "stream",
          "name": "stdout",
          "text": [
            "[0. 1. 2. 3. 4. 5. 6. 7. 8. 9.]\n"
          ]
        }
      ],
      "source": [
        "def generate():\n",
        "    for x in range(10):\n",
        "        yield x\n",
        "Z = np.fromiter(generate(),dtype=float,count=-1)\n",
        "print(Z)"
      ]
    },
    {
      "cell_type": "markdown",
      "metadata": {
        "id": "4FND-kKqTKVw"
      },
      "source": [
        "#### 39. Create a vector of size 10 with values ranging from 0 to 1, both excluded (★★☆) \n",
        "(**hint**: np.linspace)"
      ]
    },
    {
      "cell_type": "code",
      "execution_count": null,
      "metadata": {
        "id": "3bi0WbZHTKVw",
        "colab": {
          "base_uri": "https://localhost:8080/"
        },
        "outputId": "5059cf94-c436-4e7f-989f-7135bce2e30f"
      },
      "outputs": [
        {
          "output_type": "stream",
          "name": "stdout",
          "text": [
            "[0.09090909 0.18181818 0.27272727 0.36363636 0.45454545 0.54545455\n",
            " 0.63636364 0.72727273 0.81818182 0.90909091]\n"
          ]
        }
      ],
      "source": [
        "Z = np.linspace(0,1,11,endpoint=False)[1:]\n",
        "print(Z)"
      ]
    },
    {
      "cell_type": "markdown",
      "metadata": {
        "id": "jYTNkx2PTKVw"
      },
      "source": [
        "#### 40. Create a random vector of size 10 and sort it (★★☆) \n",
        "(**hint**: sort)"
      ]
    },
    {
      "cell_type": "code",
      "execution_count": null,
      "metadata": {
        "id": "z1D48iHhTKVw",
        "colab": {
          "base_uri": "https://localhost:8080/"
        },
        "outputId": "f278f218-e922-4aa7-f0f2-77e31931860b"
      },
      "outputs": [
        {
          "output_type": "stream",
          "name": "stdout",
          "text": [
            "[0.05402644 0.16082254 0.24233361 0.25713498 0.32970802 0.4312227\n",
            " 0.49361845 0.53633415 0.82770768 0.9315926 ]\n"
          ]
        }
      ],
      "source": [
        "Z = np.random.random(10)\n",
        "Z.sort()\n",
        "print(Z)"
      ]
    },
    {
      "cell_type": "markdown",
      "metadata": {
        "id": "za3PAGe0TKVw"
      },
      "source": [
        "#### 41. How to sum a small array faster than np.sum? (★★☆) \n",
        "(**hint**: np.add.reduce)"
      ]
    },
    {
      "cell_type": "code",
      "execution_count": null,
      "metadata": {
        "id": "csOy57wzTKVx",
        "colab": {
          "base_uri": "https://localhost:8080/"
        },
        "outputId": "fb434eec-a55d-4433-ee51-220377357b4a"
      },
      "outputs": [
        {
          "output_type": "execute_result",
          "data": {
            "text/plain": [
              "45"
            ]
          },
          "metadata": {},
          "execution_count": 20
        }
      ],
      "source": [
        "Z = np.arange(10)\n",
        "np.add.reduce(Z)"
      ]
    },
    {
      "cell_type": "markdown",
      "metadata": {
        "id": "2-U4LYGsTKVx"
      },
      "source": [
        "#### 42. Consider two random array A and B, check if they are equal (★★☆) \n",
        "(**hint**: np.allclose, np.array\\_equal)"
      ]
    },
    {
      "cell_type": "code",
      "execution_count": null,
      "metadata": {
        "id": "OCRUXQZ1TKVx",
        "colab": {
          "base_uri": "https://localhost:8080/"
        },
        "outputId": "631b4d3f-de06-41ec-ba69-5c01a283f3c1"
      },
      "outputs": [
        {
          "output_type": "stream",
          "name": "stdout",
          "text": [
            "False\n"
          ]
        }
      ],
      "source": [
        "A = np.random.randint(0,2,5)\n",
        "B = np.random.randint(0,2,5)\n",
        "equal = np.array_equal(A,B)\n",
        "print(equal)"
      ]
    },
    {
      "cell_type": "markdown",
      "metadata": {
        "id": "mXBjzBmxTKVx"
      },
      "source": [
        "#### 43. Make an array immutable (read-only) (★★☆) \n",
        "(**hint**: flags.writeable)"
      ]
    },
    {
      "cell_type": "code",
      "execution_count": null,
      "metadata": {
        "id": "N4Ih0zAmTKVx"
      },
      "outputs": [],
      "source": [
        ""
      ]
    },
    {
      "cell_type": "markdown",
      "metadata": {
        "id": "V9jwBmDXTKVx"
      },
      "source": [
        "#### 44. Consider a random 10x2 matrix representing cartesian coordinates, convert them to polar coordinates (★★☆) \n",
        "(**hint**: np.sqrt, np.arctan2)"
      ]
    },
    {
      "cell_type": "code",
      "execution_count": null,
      "metadata": {
        "id": "_uFiMVzrTKVy",
        "colab": {
          "base_uri": "https://localhost:8080/"
        },
        "outputId": "b1beb5b1-ced9-4067-bd07-cc0138b334df"
      },
      "outputs": [
        {
          "output_type": "stream",
          "name": "stdout",
          "text": [
            "[0.86639226 1.00413642 0.44916508 0.89761427 0.60385169 0.95606867\n",
            " 0.76647627 0.64141763 0.82287266 1.15448528]\n",
            "[0.81524423 0.58194034 0.43247076 1.17976177 1.36570353 0.9343834\n",
            " 0.41955678 1.07106753 0.4796615  0.85147178]\n"
          ]
        }
      ],
      "source": [
        "Z = np.random.random((10,2))\n",
        "X,Y = Z[:,0], Z[:,1]\n",
        "R = np.sqrt(X**2+Y**2)\n",
        "T = np.arctan2(Y,X)\n",
        "print(R)\n",
        "print(T)"
      ]
    },
    {
      "cell_type": "markdown",
      "metadata": {
        "id": "efkdpg0KTKVy"
      },
      "source": [
        "#### 45. Create random vector of size 10 and replace the maximum value by 0 (★★☆) \n",
        "(**hint**: argmax)"
      ]
    },
    {
      "cell_type": "code",
      "execution_count": null,
      "metadata": {
        "id": "F6iFYWbfTKVy",
        "colab": {
          "base_uri": "https://localhost:8080/"
        },
        "outputId": "b15c1b27-532f-46df-fcd3-ac011611f43f"
      },
      "outputs": [
        {
          "output_type": "stream",
          "name": "stdout",
          "text": [
            "[0.21014167 0.336493   0.14724709 0.         0.01380939 0.73006489\n",
            " 0.50108777 0.07459468 0.38120135 0.66638679]\n"
          ]
        }
      ],
      "source": [
        "Z = np.random.random(10)\n",
        "Z[Z.argmax()] = 0\n",
        "print(Z)"
      ]
    },
    {
      "cell_type": "markdown",
      "metadata": {
        "id": "-YbCG_4iTKVy"
      },
      "source": [
        "#### 46. Create a structured array with `x` and `y` coordinates covering the \\[0,1\\]x\\[0,1\\] area (★★☆) \n",
        "(**hint**: np.meshgrid)"
      ]
    },
    {
      "cell_type": "code",
      "execution_count": null,
      "metadata": {
        "id": "50Z1cRk5TKVy"
      },
      "outputs": [],
      "source": [
        ""
      ]
    },
    {
      "cell_type": "markdown",
      "metadata": {
        "id": "SyeMOW66TKVy"
      },
      "source": [
        "####  47. Given two arrays, X and Y, construct the Cauchy matrix C (Cij =1/(xi - yj)) \n",
        "(**hint**: np.subtract.outer)"
      ]
    },
    {
      "cell_type": "code",
      "execution_count": null,
      "metadata": {
        "id": "AJABlGOCTKVy"
      },
      "outputs": [],
      "source": [
        ""
      ]
    },
    {
      "cell_type": "markdown",
      "metadata": {
        "id": "OLhaIJ2OTKVy"
      },
      "source": [
        "#### 48. Print the minimum and maximum representable value for each numpy scalar type (★★☆) \n",
        "(**hint**: np.iinfo, np.finfo, eps)"
      ]
    },
    {
      "cell_type": "code",
      "execution_count": null,
      "metadata": {
        "id": "cb6PWJBqTKVz",
        "colab": {
          "base_uri": "https://localhost:8080/"
        },
        "outputId": "f73b573f-fd58-4968-dc01-8345e93062f5"
      },
      "outputs": [
        {
          "output_type": "stream",
          "name": "stdout",
          "text": [
            "-128\n",
            "127\n",
            "-2147483648\n",
            "2147483647\n",
            "-9223372036854775808\n",
            "9223372036854775807\n",
            "-3.4028235e+38\n",
            "3.4028235e+38\n",
            "1.1920929e-07\n",
            "-1.7976931348623157e+308\n",
            "1.7976931348623157e+308\n",
            "2.220446049250313e-16\n"
          ]
        }
      ],
      "source": [
        "for dtype in [np.int8, np.int32, np.int64]:\n",
        "   print(np.iinfo(dtype).min)\n",
        "   print(np.iinfo(dtype).max)\n",
        "for dtype in [np.float32, np.float64]:\n",
        "   print(np.finfo(dtype).min)\n",
        "   print(np.finfo(dtype).max)\n",
        "   print(np.finfo(dtype).eps)"
      ]
    },
    {
      "cell_type": "markdown",
      "metadata": {
        "id": "gSe3KT_nTKVz"
      },
      "source": [
        "#### 49. How to print all the values of an array? (★★☆) \n",
        "(**hint**: np.set\\_printoptions)"
      ]
    },
    {
      "cell_type": "code",
      "execution_count": null,
      "metadata": {
        "id": "FYRA2nLKTKVz",
        "colab": {
          "base_uri": "https://localhost:8080/"
        },
        "outputId": "fcc81b3e-b285-42ec-91c5-b507edf3af9b"
      },
      "outputs": [
        {
          "output_type": "stream",
          "name": "stdout",
          "text": [
            "[[0. 0. 0. 0. 0. 0. 0. 0. 0. 0.]\n",
            " [0. 0. 0. 0. 0. 0. 0. 0. 0. 0.]\n",
            " [0. 0. 0. 0. 0. 0. 0. 0. 0. 0.]\n",
            " [0. 0. 0. 0. 0. 0. 0. 0. 0. 0.]\n",
            " [0. 0. 0. 0. 0. 0. 0. 0. 0. 0.]\n",
            " [0. 0. 0. 0. 0. 0. 0. 0. 0. 0.]\n",
            " [0. 0. 0. 0. 0. 0. 0. 0. 0. 0.]\n",
            " [0. 0. 0. 0. 0. 0. 0. 0. 0. 0.]\n",
            " [0. 0. 0. 0. 0. 0. 0. 0. 0. 0.]\n",
            " [0. 0. 0. 0. 0. 0. 0. 0. 0. 0.]]\n"
          ]
        }
      ],
      "source": [
        "np.set_printoptions(threshold=float(\"inf\"))\n",
        "Z = np.zeros((10,10))\n",
        "print(Z)"
      ]
    },
    {
      "cell_type": "markdown",
      "metadata": {
        "id": "s0MLeJQHTKVz"
      },
      "source": [
        "#### 50. How to find the closest value (to a given scalar) in a vector? (★★☆) \n",
        "(**hint**: argmin)"
      ]
    },
    {
      "cell_type": "code",
      "execution_count": null,
      "metadata": {
        "id": "dvLps0M6TKVz",
        "colab": {
          "base_uri": "https://localhost:8080/"
        },
        "outputId": "d516a91e-a579-4add-80d4-6288c10da327"
      },
      "outputs": [
        {
          "output_type": "stream",
          "name": "stdout",
          "text": [
            "84\n"
          ]
        }
      ],
      "source": [
        "Z = np.arange(100)\n",
        "v = np.random.uniform(0,100)\n",
        "index = (np.abs(Z-v)).argmin()\n",
        "print(Z[index])"
      ]
    },
    {
      "cell_type": "markdown",
      "metadata": {
        "id": "tziirtGYTKVz"
      },
      "source": [
        "#### 51. Create a structured array representing a position (x,y) and a color (r,g,b) (★★☆) \n",
        "(**hint**: dtype)"
      ]
    },
    {
      "cell_type": "code",
      "execution_count": null,
      "metadata": {
        "id": "7PxXN1kfTKVz",
        "colab": {
          "base_uri": "https://localhost:8080/"
        },
        "outputId": "3c409fc5-fb98-49f6-a134-b968bab2c672"
      },
      "outputs": [
        {
          "output_type": "stream",
          "name": "stdout",
          "text": [
            "[((0., 0.), (0., 0., 0.)) ((0., 0.), (0., 0., 0.))\n",
            " ((0., 0.), (0., 0., 0.)) ((0., 0.), (0., 0., 0.))\n",
            " ((0., 0.), (0., 0., 0.)) ((0., 0.), (0., 0., 0.))\n",
            " ((0., 0.), (0., 0., 0.)) ((0., 0.), (0., 0., 0.))\n",
            " ((0., 0.), (0., 0., 0.)) ((0., 0.), (0., 0., 0.))]\n"
          ]
        },
        {
          "output_type": "stream",
          "name": "stderr",
          "text": [
            "/usr/local/lib/python3.7/dist-packages/ipykernel_launcher.py:5: FutureWarning: Passing (type, 1) or '1type' as a synonym of type is deprecated; in a future version of numpy, it will be understood as (type, (1,)) / '(1,)type'.\n",
            "  \"\"\"\n"
          ]
        }
      ],
      "source": [
        "Z = np.zeros(10, [ ('position', [ ('x', float, 1),\n",
        "                                  ('y', float, 1)]),\n",
        "                   ('color',    [ ('r', float, 1),\n",
        "                                  ('g', float, 1),\n",
        "                                  ('b', float, 1)])])\n",
        "print(Z)"
      ]
    },
    {
      "cell_type": "markdown",
      "metadata": {
        "id": "wXwlVIDDTKV0"
      },
      "source": [
        "#### 52. Consider a random vector with shape (100,2) representing coordinates, find point by point distances (★★☆) \n",
        "(**hint**: np.atleast\\_2d, T, np.sqrt)"
      ]
    },
    {
      "cell_type": "code",
      "execution_count": null,
      "metadata": {
        "id": "yDAHGEWSTKV0",
        "colab": {
          "base_uri": "https://localhost:8080/"
        },
        "outputId": "a94b5996-f618-4e59-c282-cb929f62621a"
      },
      "outputs": [
        {
          "output_type": "stream",
          "name": "stdout",
          "text": [
            "[[0.         0.53651497 0.51351818 0.38556319 0.51946777 0.44783836\n",
            "  0.18823893 0.51830933 0.4188017  0.51135857]\n",
            " [0.53651497 0.         0.44011914 0.54517749 0.31671227 0.37212434\n",
            "  0.42865475 0.18809262 0.90599561 0.02619851]\n",
            " [0.51351818 0.44011914 0.         0.20552076 0.69362676 0.69746673\n",
            "  0.32574159 0.2588525  0.68063483 0.42258553]\n",
            " [0.38556319 0.54517749 0.20552076 0.         0.72348046 0.69815498\n",
            "  0.22695411 0.39966781 0.47580433 0.52174326]\n",
            " [0.51946777 0.31671227 0.69362676 0.72348046 0.         0.10064522\n",
            "  0.52462911 0.48166006 0.93806289 0.31571435]\n",
            " [0.44783836 0.37212434 0.69746673 0.69815498 0.10064522 0.\n",
            "  0.48448382 0.5134312  0.86545861 0.36460966]\n",
            " [0.18823893 0.42865475 0.32574159 0.22695411 0.52462911 0.48448382\n",
            "  0.         0.3584406  0.47796967 0.40248706]\n",
            " [0.51830933 0.18809262 0.2588525  0.39966781 0.48166006 0.5134312\n",
            "  0.3584406  0.         0.82210441 0.1758246 ]\n",
            " [0.4188017  0.90599561 0.68063483 0.47580433 0.93806289 0.86545861\n",
            "  0.47796967 0.82210441 0.         0.87979789]\n",
            " [0.51135857 0.02619851 0.42258553 0.52174326 0.31571435 0.36460966\n",
            "  0.40248706 0.1758246  0.87979789 0.        ]]\n"
          ]
        }
      ],
      "source": [
        "Z = np.random.random((10,2))\n",
        "X,Y = np.atleast_2d(Z[:,0], Z[:,1])\n",
        "D = np.sqrt( (X-X.T)**2 + (Y-Y.T)**2)\n",
        "print(D)"
      ]
    },
    {
      "cell_type": "markdown",
      "metadata": {
        "id": "DB2n5aqaTKV0"
      },
      "source": [
        "#### 53. How to convert a float (32 bits) array into an integer (32 bits) in place? \n",
        "(**hint**: astype(copy=False))"
      ]
    },
    {
      "cell_type": "code",
      "execution_count": null,
      "metadata": {
        "id": "bGRjXz1hTKV0",
        "colab": {
          "base_uri": "https://localhost:8080/"
        },
        "outputId": "f892000a-1e1a-4130-ba71-4dbb8f5d572b"
      },
      "outputs": [
        {
          "output_type": "stream",
          "name": "stdout",
          "text": [
            "[96 44 21  8 79 34 92 78 30 45]\n"
          ]
        }
      ],
      "source": [
        "Z = (np.random.rand(10)*100).astype(np.float32)\n",
        "Y = Z.view(np.int32)\n",
        "Y[:] = Z\n",
        "print(Y)"
      ]
    },
    {
      "cell_type": "markdown",
      "metadata": {
        "id": "sIsyhKsGTKV0"
      },
      "source": [
        "#### 54. How to read the following file? (★★☆) \n",
        "(**hint**: np.genfromtxt)"
      ]
    },
    {
      "cell_type": "markdown",
      "metadata": {
        "id": "G1jMDvshTKV0"
      },
      "source": [
        "```\n",
        "1, 2, 3, 4, 5\n",
        "6,  ,  , 7, 8\n",
        " ,  , 9,10,11\n",
        "```"
      ]
    },
    {
      "cell_type": "code",
      "execution_count": null,
      "metadata": {
        "id": "YoyHYhI6TKV1"
      },
      "outputs": [],
      "source": [
        ""
      ]
    },
    {
      "cell_type": "markdown",
      "metadata": {
        "id": "Rh-IQw_6TKV1"
      },
      "source": [
        "#### 55. What is the equivalent of enumerate for numpy arrays? (★★☆) \n",
        "(**hint**: np.ndenumerate, np.ndindex)"
      ]
    },
    {
      "cell_type": "code",
      "execution_count": null,
      "metadata": {
        "id": "aXsKJ5clTKV1",
        "colab": {
          "base_uri": "https://localhost:8080/"
        },
        "outputId": "1485411d-0ccc-4a90-d9f3-b784a85db431"
      },
      "outputs": [
        {
          "output_type": "stream",
          "name": "stdout",
          "text": [
            "(0, 0) 0\n",
            "(0, 1) 1\n",
            "(0, 2) 2\n",
            "(1, 0) 3\n",
            "(1, 1) 4\n",
            "(1, 2) 5\n",
            "(2, 0) 6\n",
            "(2, 1) 7\n",
            "(2, 2) 8\n",
            "(0, 0) 0\n",
            "(0, 1) 1\n",
            "(0, 2) 2\n",
            "(1, 0) 3\n",
            "(1, 1) 4\n",
            "(1, 2) 5\n",
            "(2, 0) 6\n",
            "(2, 1) 7\n",
            "(2, 2) 8\n"
          ]
        }
      ],
      "source": [
        "Z = np.arange(9).reshape(3,3)\n",
        "for index, value in np.ndenumerate(Z):\n",
        "    print(index, value)\n",
        "for index in np.ndindex(Z.shape):\n",
        "    print(index, Z[index])"
      ]
    },
    {
      "cell_type": "markdown",
      "metadata": {
        "id": "HtGM8t83TKV1"
      },
      "source": [
        "#### 56. Generate a generic 2D Gaussian-like array (★★☆) \n",
        "(**hint**: np.meshgrid, np.exp)"
      ]
    },
    {
      "cell_type": "code",
      "execution_count": null,
      "metadata": {
        "id": "qrO1b2jtTKV1"
      },
      "outputs": [],
      "source": [
        ""
      ]
    },
    {
      "cell_type": "markdown",
      "metadata": {
        "id": "0eI892yZTKV1"
      },
      "source": [
        "#### 57. How to randomly place p elements in a 2D array? (★★☆) \n",
        "(**hint**: np.put, np.random.choice)"
      ]
    },
    {
      "cell_type": "code",
      "execution_count": null,
      "metadata": {
        "id": "dCObSIyVTKV1",
        "colab": {
          "base_uri": "https://localhost:8080/"
        },
        "outputId": "d6b3ae5d-ce05-45f3-e676-7ba3ef40e510"
      },
      "outputs": [
        {
          "output_type": "stream",
          "name": "stdout",
          "text": [
            "[[0. 0. 0. 0. 0. 0. 0. 0. 0. 0.]\n",
            " [0. 0. 0. 0. 0. 0. 1. 0. 0. 0.]\n",
            " [0. 0. 0. 0. 0. 0. 0. 0. 0. 0.]\n",
            " [0. 0. 0. 0. 0. 0. 0. 0. 0. 0.]\n",
            " [0. 1. 0. 0. 0. 0. 0. 0. 0. 0.]\n",
            " [0. 0. 0. 0. 0. 0. 0. 1. 0. 0.]\n",
            " [0. 0. 0. 0. 0. 0. 0. 0. 0. 0.]\n",
            " [0. 0. 0. 0. 0. 0. 0. 0. 0. 0.]\n",
            " [0. 0. 0. 0. 0. 0. 0. 0. 0. 0.]\n",
            " [0. 0. 0. 0. 0. 0. 0. 0. 0. 0.]]\n"
          ]
        }
      ],
      "source": [
        "n = 10\n",
        "p = 3\n",
        "Z = np.zeros((n,n))\n",
        "np.put(Z, np.random.choice(range(n*n), p, replace=False),1)\n",
        "print(Z)"
      ]
    },
    {
      "cell_type": "markdown",
      "metadata": {
        "id": "yDYeJjXcTKV1"
      },
      "source": [
        "#### 58. Subtract the mean of each row of a matrix (★★☆) \n",
        "(**hint**: mean(axis=,keepdims=))"
      ]
    },
    {
      "cell_type": "code",
      "execution_count": null,
      "metadata": {
        "id": "srPKJToLTKV1",
        "colab": {
          "base_uri": "https://localhost:8080/"
        },
        "outputId": "b75b67d8-2dc8-4d59-9890-0409e51b94fe"
      },
      "outputs": [
        {
          "output_type": "stream",
          "name": "stdout",
          "text": [
            "[[-0.29791093 -0.12691597 -0.22447707 -0.07565183 -0.25534576  0.47033933\n",
            "   0.26535094  0.59855508 -0.34718656 -0.00675721]\n",
            " [-0.43261622 -0.18510247  0.3422964  -0.26417075 -0.22064475 -0.30737519\n",
            "   0.08737429  0.37328797  0.13172165  0.47522908]\n",
            " [ 0.04841034 -0.17328712  0.14809211  0.29246059  0.10935795  0.00975887\n",
            "   0.2524676  -0.23070992 -0.46752997  0.01097955]\n",
            " [-0.40666103  0.05902272  0.11081013 -0.18006393  0.02404321  0.37424183\n",
            "   0.29380387 -0.05778051 -0.02005932 -0.19735698]\n",
            " [ 0.19895526 -0.49418328 -0.59853891 -0.12252111  0.30050313  0.24222593\n",
            "   0.15587819  0.19823737 -0.13530049  0.2547439 ]]\n"
          ]
        }
      ],
      "source": [
        "X = np.random.rand(5, 10)\n",
        "Y = X - X.mean(axis=1, keepdims=True)\n",
        "print(Y)"
      ]
    },
    {
      "cell_type": "markdown",
      "metadata": {
        "id": "Qk6DPSv3TKV2"
      },
      "source": [
        "#### 59. How to sort an array by the nth column? (★★☆) \n",
        "(**hint**: argsort)"
      ]
    },
    {
      "cell_type": "code",
      "execution_count": null,
      "metadata": {
        "id": "lOdsdRMCTKV2",
        "colab": {
          "base_uri": "https://localhost:8080/"
        },
        "outputId": "5ac3d7e7-13e6-41b6-c431-341566e17860"
      },
      "outputs": [
        {
          "output_type": "stream",
          "name": "stdout",
          "text": [
            "[[5 4 5]\n",
            " [8 0 6]\n",
            " [2 6 1]]\n",
            "[[8 0 6]\n",
            " [5 4 5]\n",
            " [2 6 1]]\n"
          ]
        }
      ],
      "source": [
        "Z = np.random.randint(0,10,(3,3))\n",
        "print(Z)\n",
        "print(Z[Z[:,1].argsort()])"
      ]
    },
    {
      "cell_type": "markdown",
      "metadata": {
        "id": "Q6bzamt3TKV2"
      },
      "source": [
        "#### 60. How to tell if a given 2D array has null columns? (★★☆) \n",
        "(**hint**: any, ~)"
      ]
    },
    {
      "cell_type": "code",
      "execution_count": null,
      "metadata": {
        "id": "eoMok9OYTKV2",
        "colab": {
          "base_uri": "https://localhost:8080/"
        },
        "outputId": "1428ee9f-b227-45c5-d452-4f4c572ef2f9"
      },
      "outputs": [
        {
          "output_type": "stream",
          "name": "stdout",
          "text": [
            "False\n"
          ]
        }
      ],
      "source": [
        "Z = np.random.randint(0,3,(3,10))\n",
        "print((~Z.any(axis=0)).any())"
      ]
    },
    {
      "cell_type": "markdown",
      "metadata": {
        "id": "zjbKuq-eTKV2"
      },
      "source": [
        "#### 61. Find the nearest value from a given value in an array (★★☆) \n",
        "(**hint**: np.abs, argmin, flat)"
      ]
    },
    {
      "cell_type": "code",
      "execution_count": null,
      "metadata": {
        "id": "gfXSvMPCTKV2"
      },
      "outputs": [],
      "source": [
        ""
      ]
    },
    {
      "cell_type": "markdown",
      "metadata": {
        "id": "18tO7uZZTKV2"
      },
      "source": [
        "#### 62. Considering two arrays with shape (1,3) and (3,1), how to compute their sum using an iterator? (★★☆) \n",
        "(**hint**: np.nditer)"
      ]
    },
    {
      "cell_type": "code",
      "execution_count": null,
      "metadata": {
        "id": "LmDOhZszTKV2",
        "colab": {
          "base_uri": "https://localhost:8080/"
        },
        "outputId": "3c297ccd-809e-4881-a2b4-484a03848c85"
      },
      "outputs": [
        {
          "output_type": "stream",
          "name": "stdout",
          "text": [
            "[[0 1 2]\n",
            " [1 2 3]\n",
            " [2 3 4]]\n"
          ]
        }
      ],
      "source": [
        "A = np.arange(3).reshape(3,1)\n",
        "B = np.arange(3).reshape(1,3)\n",
        "it = np.nditer([A,B,None])\n",
        "for x,y,z in it: z[...] = x + y\n",
        "print(it.operands[2])"
      ]
    },
    {
      "cell_type": "markdown",
      "metadata": {
        "id": "ZSL4AWtuTKV3"
      },
      "source": [
        "#### 63. Create an array class that has a name attribute (★★☆) \n",
        "(**hint**: class method)"
      ]
    },
    {
      "cell_type": "code",
      "execution_count": null,
      "metadata": {
        "id": "lcrUvSpZTKV3"
      },
      "outputs": [],
      "source": [
        ""
      ]
    },
    {
      "cell_type": "markdown",
      "metadata": {
        "id": "KhmYRvnTTKV3"
      },
      "source": [
        "#### 64. Consider a given vector, how to add 1 to each element indexed by a second vector (be careful with repeated indices)? (★★★) \n",
        "(**hint**: np.bincount | np.add.at)"
      ]
    },
    {
      "cell_type": "code",
      "execution_count": null,
      "metadata": {
        "id": "rktOQeWyTKV3",
        "colab": {
          "base_uri": "https://localhost:8080/"
        },
        "outputId": "7875ac9d-a9e7-4470-cf5d-500dc80f5458"
      },
      "outputs": [
        {
          "output_type": "stream",
          "name": "stdout",
          "text": [
            "[1. 3. 2. 2. 6. 3. 3. 3. 3. 4.]\n"
          ]
        }
      ],
      "source": [
        "Z = np.ones(10)\n",
        "I = np.random.randint(0,len(Z),20)\n",
        "Z += np.bincount(I, minlength=len(Z))\n",
        "print(Z)"
      ]
    },
    {
      "cell_type": "markdown",
      "metadata": {
        "id": "DYWiZ_ziTKV3"
      },
      "source": [
        "#### 65. How to accumulate elements of a vector (X) to an array (F) based on an index list (I)? (★★★) \n",
        "(**hint**: np.bincount)"
      ]
    },
    {
      "cell_type": "code",
      "execution_count": null,
      "metadata": {
        "id": "KUUhmmknTKV3",
        "colab": {
          "base_uri": "https://localhost:8080/"
        },
        "outputId": "d9c98fb6-1abc-4560-c8aa-a6775d303b7a"
      },
      "outputs": [
        {
          "output_type": "stream",
          "name": "stdout",
          "text": [
            "[0. 7. 0. 6. 5. 0. 0. 0. 0. 3.]\n"
          ]
        }
      ],
      "source": [
        "X = [1,2,3,4,5,6]\n",
        "I = [1,3,9,3,4,1]\n",
        "F = np.bincount(I,X)\n",
        "print(F)"
      ]
    },
    {
      "cell_type": "markdown",
      "metadata": {
        "id": "t2cVSFJ1TKV3"
      },
      "source": [
        "#### 66. Considering a (w,h,3) image of (dtype=ubyte), compute the number of unique colors (★★★) \n",
        "(**hint**: np.unique)"
      ]
    },
    {
      "cell_type": "code",
      "execution_count": null,
      "metadata": {
        "id": "JUTMG7xsTKV4"
      },
      "outputs": [],
      "source": [
        ""
      ]
    },
    {
      "cell_type": "markdown",
      "metadata": {
        "id": "FYeASduyTKV4"
      },
      "source": [
        "#### 67. Considering a four dimensions array, how to get sum over the last two axis at once? (★★★) \n",
        "(**hint**: sum(axis=(-2,-1)))"
      ]
    },
    {
      "cell_type": "code",
      "execution_count": null,
      "metadata": {
        "id": "mESEyxJuTKV4",
        "colab": {
          "base_uri": "https://localhost:8080/"
        },
        "outputId": "7e529cf2-b29e-4dc7-b800-e64d2b8b19c9"
      },
      "outputs": [
        {
          "output_type": "stream",
          "name": "stdout",
          "text": [
            "[[50 73 50 62]\n",
            " [55 56 50 64]\n",
            " [43 56 62 54]]\n"
          ]
        }
      ],
      "source": [
        "A = np.random.randint(0,10,(3,4,3,4))\n",
        "sum = A.sum(axis=(-2,-1))\n",
        "print(sum)"
      ]
    },
    {
      "cell_type": "markdown",
      "metadata": {
        "id": "mdYo3CdATKV4"
      },
      "source": [
        "#### 68. Considering a one-dimensional vector D, how to compute means of subsets of D using a vector S of same size describing subset  indices? (★★★) \n",
        "(**hint**: np.bincount)"
      ]
    },
    {
      "cell_type": "code",
      "execution_count": null,
      "metadata": {
        "id": "tEmYbh2ATKV4"
      },
      "outputs": [],
      "source": [
        ""
      ]
    },
    {
      "cell_type": "markdown",
      "metadata": {
        "id": "tmGREpOzTKV4"
      },
      "source": [
        "#### 69. How to get the diagonal of a dot product? (★★★) \n",
        "(**hint**: np.diag)"
      ]
    },
    {
      "cell_type": "code",
      "execution_count": null,
      "metadata": {
        "id": "VzbU55HdTKV5",
        "colab": {
          "base_uri": "https://localhost:8080/"
        },
        "outputId": "94195a28-bbed-4936-eb06-e52e25fad828"
      },
      "outputs": [
        {
          "output_type": "execute_result",
          "data": {
            "text/plain": [
              "array([1.6156199 , 0.14658378, 1.79417741, 1.85807125, 0.73917493])"
            ]
          },
          "metadata": {},
          "execution_count": 15
        }
      ],
      "source": [
        "A = np.random.uniform(0,1,(5,5))\n",
        "B = np.random.uniform(0,1,(5,5))\n",
        "np.diag(np.dot(A, B))"
      ]
    },
    {
      "cell_type": "markdown",
      "metadata": {
        "id": "abgCotfnTKV5"
      },
      "source": [
        "#### 70. Consider the vector \\[1, 2, 3, 4, 5\\], how to build a new vector with 3 consecutive zeros interleaved between each value? (★★★) \n",
        "(**hint**: array\\[::4\\])"
      ]
    },
    {
      "cell_type": "code",
      "execution_count": null,
      "metadata": {
        "id": "4CJoUoXGTKV5"
      },
      "outputs": [],
      "source": [
        ""
      ]
    },
    {
      "cell_type": "markdown",
      "metadata": {
        "id": "CDAWrzcoTKV5"
      },
      "source": [
        "#### 71. Consider an array of dimension (5,5,3), how to mulitply it by an array with dimensions (5,5)? (★★★) \n",
        "(**hint**: array\\[:, :, None\\])"
      ]
    },
    {
      "cell_type": "code",
      "execution_count": null,
      "metadata": {
        "collapsed": true,
        "id": "w_menu_MTKV5",
        "colab": {
          "base_uri": "https://localhost:8080/"
        },
        "outputId": "3b22ea61-440a-4da5-9c50-5d028a1a7dac"
      },
      "outputs": [
        {
          "output_type": "stream",
          "name": "stdout",
          "text": [
            "[[[2. 2. 2.]\n",
            "  [2. 2. 2.]\n",
            "  [2. 2. 2.]\n",
            "  [2. 2. 2.]\n",
            "  [2. 2. 2.]]\n",
            "\n",
            " [[2. 2. 2.]\n",
            "  [2. 2. 2.]\n",
            "  [2. 2. 2.]\n",
            "  [2. 2. 2.]\n",
            "  [2. 2. 2.]]\n",
            "\n",
            " [[2. 2. 2.]\n",
            "  [2. 2. 2.]\n",
            "  [2. 2. 2.]\n",
            "  [2. 2. 2.]\n",
            "  [2. 2. 2.]]\n",
            "\n",
            " [[2. 2. 2.]\n",
            "  [2. 2. 2.]\n",
            "  [2. 2. 2.]\n",
            "  [2. 2. 2.]\n",
            "  [2. 2. 2.]]\n",
            "\n",
            " [[2. 2. 2.]\n",
            "  [2. 2. 2.]\n",
            "  [2. 2. 2.]\n",
            "  [2. 2. 2.]\n",
            "  [2. 2. 2.]]]\n"
          ]
        }
      ],
      "source": [
        "A = np.ones((5,5,3))\n",
        "B = 2*np.ones((5,5))\n",
        "print(A * B[:,:,None])"
      ]
    },
    {
      "cell_type": "markdown",
      "metadata": {
        "id": "EczeMqQ-TKV6"
      },
      "source": [
        "#### 72. How to swap two rows of an array? (★★★) \n",
        "(**hint**: array\\[\\[\\]\\] = array\\[\\[\\]\\])"
      ]
    },
    {
      "cell_type": "code",
      "execution_count": null,
      "metadata": {
        "id": "uw24hYIATKV6",
        "colab": {
          "base_uri": "https://localhost:8080/"
        },
        "outputId": "d8792f9f-976a-4b34-96d1-8dce4fd47637"
      },
      "outputs": [
        {
          "output_type": "stream",
          "name": "stdout",
          "text": [
            "[[ 5  6  7  8  9]\n",
            " [ 0  1  2  3  4]\n",
            " [10 11 12 13 14]\n",
            " [15 16 17 18 19]\n",
            " [20 21 22 23 24]]\n"
          ]
        }
      ],
      "source": [
        "A = np.arange(25).reshape(5,5)\n",
        "A[[0,1]] = A[[1,0]]\n",
        "print(A)"
      ]
    },
    {
      "cell_type": "markdown",
      "metadata": {
        "id": "VC5apPwtTKV6"
      },
      "source": [
        "#### 73. Consider a set of 10 triplets describing 10 triangles (with shared vertices), find the set of unique line segments composing all the  triangles (★★★) \n",
        "(**hint**: repeat, np.roll, np.sort, view, np.unique)"
      ]
    },
    {
      "cell_type": "code",
      "execution_count": null,
      "metadata": {
        "id": "GVGQ94-8TKV6"
      },
      "outputs": [],
      "source": [
        ""
      ]
    },
    {
      "cell_type": "markdown",
      "metadata": {
        "id": "QEeQfMsvTKV6"
      },
      "source": [
        "#### 74. Given an array C that is a bincount, how to produce an array A such that np.bincount(A) == C? (★★★) \n",
        "(**hint**: np.repeat)"
      ]
    },
    {
      "cell_type": "code",
      "execution_count": null,
      "metadata": {
        "id": "al3atfl5TKV6",
        "colab": {
          "base_uri": "https://localhost:8080/"
        },
        "outputId": "143b39cb-a5b0-4d9b-c093-897703a436d3"
      },
      "outputs": [
        {
          "output_type": "stream",
          "name": "stdout",
          "text": [
            "[1 1 2 3 4 4 6]\n"
          ]
        }
      ],
      "source": [
        "C = np.bincount([1,1,2,3,4,4,6])\n",
        "A = np.repeat(np.arange(len(C)), C)\n",
        "print(A)"
      ]
    },
    {
      "cell_type": "markdown",
      "metadata": {
        "id": "YZI9039bTKV7"
      },
      "source": [
        "#### 75. How to compute averages using a sliding window over an array? (★★★) \n",
        "(**hint**: np.cumsum)"
      ]
    },
    {
      "cell_type": "code",
      "execution_count": null,
      "metadata": {
        "id": "K1qlTkMkTKV7",
        "colab": {
          "base_uri": "https://localhost:8080/"
        },
        "outputId": "4d14847e-865a-4092-dc83-2af4da34452d"
      },
      "outputs": [
        {
          "output_type": "stream",
          "name": "stdout",
          "text": [
            "[ 1.  2.  3.  4.  5.  6.  7.  8.  9. 10. 11. 12. 13. 14. 15. 16. 17. 18.]\n"
          ]
        }
      ],
      "source": [
        "from numpy.lib.stride_tricks import sliding_window_view\n",
        "\n",
        "Z = np.arange(20)\n",
        "print(sliding_window_view(Z, window_shape=3).mean(axis=-1))"
      ]
    },
    {
      "cell_type": "markdown",
      "metadata": {
        "id": "ObBFrTfeTKV7"
      },
      "source": [
        "#### 76. Consider a one-dimensional array Z, build a two-dimensional array whose first row is (Z\\[0\\],Z\\[1\\],Z\\[2\\]) and each subsequent row is  shifted by 1 (last row should be (Z\\[-3\\],Z\\[-2\\],Z\\[-1\\]) (★★★) \n",
        "(**hint**: from numpy.lib import stride_tricks)"
      ]
    },
    {
      "cell_type": "code",
      "execution_count": null,
      "metadata": {
        "id": "Zk-kOxHrTKV7"
      },
      "outputs": [],
      "source": [
        ""
      ]
    },
    {
      "cell_type": "markdown",
      "metadata": {
        "id": "DVDLaP45TKV7"
      },
      "source": [
        "#### 77. How to negate a boolean, or to change the sign of a float inplace? (★★★) \n",
        "(**hint**: np.logical_not, np.negative)"
      ]
    },
    {
      "cell_type": "code",
      "execution_count": null,
      "metadata": {
        "id": "o-2d7k9jTKV7",
        "colab": {
          "base_uri": "https://localhost:8080/"
        },
        "outputId": "79baeea1-2aa5-41a4-d762-84daf4b37be3"
      },
      "outputs": [
        {
          "output_type": "execute_result",
          "data": {
            "text/plain": [
              "array([ 0.71529889, -0.77419442, -0.98620526, -0.627524  , -0.15929164,\n",
              "       -0.1678095 ,  0.2884692 ,  0.18825285,  0.86411065,  0.09259123,\n",
              "       -0.90563098,  0.90444772,  0.32658207, -0.83827365,  0.06183624,\n",
              "        0.4361418 ,  0.60417759, -0.14583401,  0.81342936,  0.48665446,\n",
              "       -0.04643464,  0.2075116 ,  0.98640805,  0.78847468, -0.17841696,\n",
              "        0.85397353, -0.52829206,  0.15476284, -0.45696713,  0.52171639,\n",
              "       -0.04315256,  0.15887416, -0.60963863, -0.8593321 , -0.0700988 ,\n",
              "        0.83084149,  0.23096869,  0.24844807,  0.32566988,  0.10881992,\n",
              "       -0.90923589,  0.47482149, -0.3487807 , -0.96623057, -0.08415887,\n",
              "        0.00798277,  0.86661813, -0.50757051,  0.0253768 ,  0.54977576,\n",
              "        0.96805867, -0.87642486, -0.3079395 ,  0.783907  , -0.75038899,\n",
              "       -0.9889073 , -0.89221573,  0.46589306,  0.79124717, -0.6603717 ,\n",
              "       -0.73989705,  0.14173906, -0.50065458, -0.13804717,  0.23967015,\n",
              "       -0.10043409, -0.43548907,  0.36725418,  0.05755549, -0.0445278 ,\n",
              "       -0.15396699,  0.89944527,  0.74622665, -0.68234312, -0.32900166,\n",
              "       -0.57373372,  0.00795683,  0.16007692, -0.15856829, -0.60995981,\n",
              "       -0.91229009, -0.78299415, -0.42208536,  0.97308832,  0.84245686,\n",
              "       -0.21761118,  0.70766082,  0.85540234, -0.61426924, -0.89925009,\n",
              "       -0.35861343, -0.75298293,  0.83617968, -0.08720349,  0.50276771,\n",
              "       -0.31826139, -0.84049277, -0.63496562, -0.17136496, -0.3632783 ])"
            ]
          },
          "metadata": {},
          "execution_count": 20
        }
      ],
      "source": [
        "Z = np.random.randint(0,2,100)\n",
        "np.logical_not(Z, out=Z)\n",
        "\n",
        "Z = np.random.uniform(-1.0,1.0,100)\n",
        "np.negative(Z, out=Z)"
      ]
    },
    {
      "cell_type": "markdown",
      "metadata": {
        "id": "UvxZIrOqTKV8"
      },
      "source": [
        "#### 78. Consider 2 sets of points P0,P1 describing lines (2d) and a point p, how to compute distance from p to each line i  (P0\\[i\\],P1\\[i\\])? (★★★)"
      ]
    },
    {
      "cell_type": "code",
      "execution_count": null,
      "metadata": {
        "id": "oQwbWQ-uTKV-",
        "colab": {
          "base_uri": "https://localhost:8080/"
        },
        "outputId": "73cdf25d-b7ec-4895-b2ec-c478c286b162"
      },
      "outputs": [
        {
          "output_type": "stream",
          "name": "stdout",
          "text": [
            "[3.43571656 4.09699715 2.73879755 1.02206193 0.58339438 8.00386545\n",
            " 3.88542879 1.35990894 1.39686551 7.8846164 ]\n"
          ]
        }
      ],
      "source": [
        "def distance(P0, P1, p):\n",
        "    T = P1 - P0\n",
        "    L = (T**2).sum(axis=1)\n",
        "    U = -((P0[:,0]-p[...,0])*T[:,0] + (P0[:,1]-p[...,1])*T[:,1]) / L\n",
        "    U = U.reshape(len(U),1)\n",
        "    D = P0 + U*T - p\n",
        "    return np.sqrt((D**2).sum(axis=1))\n",
        "\n",
        "P0 = np.random.uniform(-10,10,(10,2))\n",
        "P1 = np.random.uniform(-10,10,(10,2))\n",
        "p  = np.random.uniform(-10,10,( 1,2))\n",
        "print(distance(P0, P1, p))"
      ]
    },
    {
      "cell_type": "markdown",
      "metadata": {
        "id": "zT8wYpfRTKV-"
      },
      "source": [
        "#### 79. Consider 2 sets of points P0,P1 describing lines (2d) and a set of points P, how to compute distance from each point j (P\\[j\\]) to each line i (P0\\[i\\],P1\\[i\\])? (★★★)"
      ]
    },
    {
      "cell_type": "code",
      "execution_count": null,
      "metadata": {
        "id": "K69CcB9PTKV-"
      },
      "outputs": [],
      "source": [
        ""
      ]
    },
    {
      "cell_type": "markdown",
      "metadata": {
        "id": "8L9hhB2MTKV-"
      },
      "source": [
        "#### 80. Consider an arbitrary array, write a function that extract a subpart with a fixed shape and centered on a given element (pad with a `fill` value when necessary) (★★★) \n",
        "(**hint**: minimum, maximum)"
      ]
    },
    {
      "cell_type": "code",
      "execution_count": null,
      "metadata": {
        "id": "CkeDECh_TKV_"
      },
      "outputs": [],
      "source": [
        ""
      ]
    },
    {
      "cell_type": "markdown",
      "metadata": {
        "id": "0mSRU19oTKV_"
      },
      "source": [
        "#### 81. Consider an array Z = \\[1,2,3,4,5,6,7,8,9,10,11,12,13,14\\], how to generate an array R = \\[\\[1,2,3,4\\], \\[2,3,4,5\\], \\[3,4,5,6\\], ..., \\[11,12,13,14\\]\\]? (★★★) \n",
        "(**hint**: stride\\_tricks.as\\_strided)"
      ]
    },
    {
      "cell_type": "code",
      "execution_count": null,
      "metadata": {
        "id": "sKkj48XETKV_",
        "colab": {
          "base_uri": "https://localhost:8080/"
        },
        "outputId": "27aaa56c-d84e-4b1f-ac08-61692c418f63"
      },
      "outputs": [
        {
          "output_type": "stream",
          "name": "stdout",
          "text": [
            "[[ 1  2  3  4]\n",
            " [ 2  3  4  5]\n",
            " [ 3  4  5  6]\n",
            " [ 4  5  6  7]\n",
            " [ 5  6  7  8]\n",
            " [ 6  7  8  9]\n",
            " [ 7  8  9 10]\n",
            " [ 8  9 10 11]\n",
            " [ 9 10 11 12]\n",
            " [10 11 12 13]\n",
            " [11 12 13 14]]\n"
          ]
        }
      ],
      "source": [
        "from numpy.lib import stride_tricks\n",
        "Z = np.arange(1,15,dtype=np.uint32)\n",
        "R = stride_tricks.as_strided(Z,(11,4),(4,4))\n",
        "print(R)"
      ]
    },
    {
      "cell_type": "markdown",
      "metadata": {
        "id": "FQ6pmJXxTKV_"
      },
      "source": [
        "#### 82. Compute a matrix rank (★★★) \n",
        "(**hint**: np.linalg.svd) (suggestion: np.linalg.svd)"
      ]
    },
    {
      "cell_type": "code",
      "execution_count": null,
      "metadata": {
        "id": "_jV7x7LITKV_",
        "colab": {
          "base_uri": "https://localhost:8080/"
        },
        "outputId": "2d6b7116-906c-4464-e033-ed780e5975a4"
      },
      "outputs": [
        {
          "output_type": "stream",
          "name": "stdout",
          "text": [
            "10\n"
          ]
        }
      ],
      "source": [
        "Z = np.random.uniform(0,1,(10,10))\n",
        "rank = np.linalg.matrix_rank(Z)\n",
        "print(rank)"
      ]
    },
    {
      "cell_type": "markdown",
      "metadata": {
        "id": "xQLjAQNVTKV_"
      },
      "source": [
        "#### 83. How to find the most frequent value in an array? \n",
        "(**hint**: np.bincount, argmax)"
      ]
    },
    {
      "cell_type": "code",
      "execution_count": null,
      "metadata": {
        "id": "VszbJxnJTKWA",
        "colab": {
          "base_uri": "https://localhost:8080/"
        },
        "outputId": "447b14b5-cfcf-4bae-b4a0-277f43daf2ed"
      },
      "outputs": [
        {
          "output_type": "stream",
          "name": "stdout",
          "text": [
            "2\n"
          ]
        }
      ],
      "source": [
        "Z = np.random.randint(0,10,50)\n",
        "print(np.bincount(Z).argmax())"
      ]
    },
    {
      "cell_type": "markdown",
      "metadata": {
        "id": "gmEWIpprTKWA"
      },
      "source": [
        "#### 84. Extract all the contiguous 3x3 blocks from a random 10x10 matrix (★★★) \n",
        "(**hint**: stride\\_tricks.as\\_strided)"
      ]
    },
    {
      "cell_type": "code",
      "execution_count": null,
      "metadata": {
        "id": "otag9WL3TKWA",
        "colab": {
          "base_uri": "https://localhost:8080/"
        },
        "outputId": "9d3546a5-80ae-4334-be33-a886f6b6cf09"
      },
      "outputs": [
        {
          "output_type": "stream",
          "name": "stdout",
          "text": [
            "[[[[2 3 3]\n",
            "   [2 2 2]\n",
            "   [1 4 3]]\n",
            "\n",
            "  [[3 3 4]\n",
            "   [2 2 0]\n",
            "   [4 3 4]]\n",
            "\n",
            "  [[3 4 2]\n",
            "   [2 0 4]\n",
            "   [3 4 1]]\n",
            "\n",
            "  [[4 2 1]\n",
            "   [0 4 2]\n",
            "   [4 1 3]]\n",
            "\n",
            "  [[2 1 2]\n",
            "   [4 2 1]\n",
            "   [1 3 0]]\n",
            "\n",
            "  [[1 2 1]\n",
            "   [2 1 1]\n",
            "   [3 0 0]]\n",
            "\n",
            "  [[2 1 3]\n",
            "   [1 1 2]\n",
            "   [0 0 2]]\n",
            "\n",
            "  [[1 3 1]\n",
            "   [1 2 2]\n",
            "   [0 2 2]]]\n",
            "\n",
            "\n",
            " [[[2 2 2]\n",
            "   [1 4 3]\n",
            "   [2 0 3]]\n",
            "\n",
            "  [[2 2 0]\n",
            "   [4 3 4]\n",
            "   [0 3 0]]\n",
            "\n",
            "  [[2 0 4]\n",
            "   [3 4 1]\n",
            "   [3 0 0]]\n",
            "\n",
            "  [[0 4 2]\n",
            "   [4 1 3]\n",
            "   [0 0 2]]\n",
            "\n",
            "  [[4 2 1]\n",
            "   [1 3 0]\n",
            "   [0 2 1]]\n",
            "\n",
            "  [[2 1 1]\n",
            "   [3 0 0]\n",
            "   [2 1 1]]\n",
            "\n",
            "  [[1 1 2]\n",
            "   [0 0 2]\n",
            "   [1 1 0]]\n",
            "\n",
            "  [[1 2 2]\n",
            "   [0 2 2]\n",
            "   [1 0 1]]]\n",
            "\n",
            "\n",
            " [[[1 4 3]\n",
            "   [2 0 3]\n",
            "   [0 4 3]]\n",
            "\n",
            "  [[4 3 4]\n",
            "   [0 3 0]\n",
            "   [4 3 3]]\n",
            "\n",
            "  [[3 4 1]\n",
            "   [3 0 0]\n",
            "   [3 3 4]]\n",
            "\n",
            "  [[4 1 3]\n",
            "   [0 0 2]\n",
            "   [3 4 4]]\n",
            "\n",
            "  [[1 3 0]\n",
            "   [0 2 1]\n",
            "   [4 4 2]]\n",
            "\n",
            "  [[3 0 0]\n",
            "   [2 1 1]\n",
            "   [4 2 0]]\n",
            "\n",
            "  [[0 0 2]\n",
            "   [1 1 0]\n",
            "   [2 0 4]]\n",
            "\n",
            "  [[0 2 2]\n",
            "   [1 0 1]\n",
            "   [0 4 4]]]\n",
            "\n",
            "\n",
            " [[[2 0 3]\n",
            "   [0 4 3]\n",
            "   [3 1 2]]\n",
            "\n",
            "  [[0 3 0]\n",
            "   [4 3 3]\n",
            "   [1 2 1]]\n",
            "\n",
            "  [[3 0 0]\n",
            "   [3 3 4]\n",
            "   [2 1 1]]\n",
            "\n",
            "  [[0 0 2]\n",
            "   [3 4 4]\n",
            "   [1 1 0]]\n",
            "\n",
            "  [[0 2 1]\n",
            "   [4 4 2]\n",
            "   [1 0 4]]\n",
            "\n",
            "  [[2 1 1]\n",
            "   [4 2 0]\n",
            "   [0 4 4]]\n",
            "\n",
            "  [[1 1 0]\n",
            "   [2 0 4]\n",
            "   [4 4 1]]\n",
            "\n",
            "  [[1 0 1]\n",
            "   [0 4 4]\n",
            "   [4 1 2]]]\n",
            "\n",
            "\n",
            " [[[0 4 3]\n",
            "   [3 1 2]\n",
            "   [3 2 2]]\n",
            "\n",
            "  [[4 3 3]\n",
            "   [1 2 1]\n",
            "   [2 2 4]]\n",
            "\n",
            "  [[3 3 4]\n",
            "   [2 1 1]\n",
            "   [2 4 0]]\n",
            "\n",
            "  [[3 4 4]\n",
            "   [1 1 0]\n",
            "   [4 0 1]]\n",
            "\n",
            "  [[4 4 2]\n",
            "   [1 0 4]\n",
            "   [0 1 0]]\n",
            "\n",
            "  [[4 2 0]\n",
            "   [0 4 4]\n",
            "   [1 0 1]]\n",
            "\n",
            "  [[2 0 4]\n",
            "   [4 4 1]\n",
            "   [0 1 4]]\n",
            "\n",
            "  [[0 4 4]\n",
            "   [4 1 2]\n",
            "   [1 4 0]]]\n",
            "\n",
            "\n",
            " [[[3 1 2]\n",
            "   [3 2 2]\n",
            "   [0 2 3]]\n",
            "\n",
            "  [[1 2 1]\n",
            "   [2 2 4]\n",
            "   [2 3 3]]\n",
            "\n",
            "  [[2 1 1]\n",
            "   [2 4 0]\n",
            "   [3 3 4]]\n",
            "\n",
            "  [[1 1 0]\n",
            "   [4 0 1]\n",
            "   [3 4 0]]\n",
            "\n",
            "  [[1 0 4]\n",
            "   [0 1 0]\n",
            "   [4 0 1]]\n",
            "\n",
            "  [[0 4 4]\n",
            "   [1 0 1]\n",
            "   [0 1 1]]\n",
            "\n",
            "  [[4 4 1]\n",
            "   [0 1 4]\n",
            "   [1 1 1]]\n",
            "\n",
            "  [[4 1 2]\n",
            "   [1 4 0]\n",
            "   [1 1 1]]]\n",
            "\n",
            "\n",
            " [[[3 2 2]\n",
            "   [0 2 3]\n",
            "   [4 4 1]]\n",
            "\n",
            "  [[2 2 4]\n",
            "   [2 3 3]\n",
            "   [4 1 0]]\n",
            "\n",
            "  [[2 4 0]\n",
            "   [3 3 4]\n",
            "   [1 0 3]]\n",
            "\n",
            "  [[4 0 1]\n",
            "   [3 4 0]\n",
            "   [0 3 0]]\n",
            "\n",
            "  [[0 1 0]\n",
            "   [4 0 1]\n",
            "   [3 0 0]]\n",
            "\n",
            "  [[1 0 1]\n",
            "   [0 1 1]\n",
            "   [0 0 0]]\n",
            "\n",
            "  [[0 1 4]\n",
            "   [1 1 1]\n",
            "   [0 0 3]]\n",
            "\n",
            "  [[1 4 0]\n",
            "   [1 1 1]\n",
            "   [0 3 3]]]\n",
            "\n",
            "\n",
            " [[[0 2 3]\n",
            "   [4 4 1]\n",
            "   [3 0 1]]\n",
            "\n",
            "  [[2 3 3]\n",
            "   [4 1 0]\n",
            "   [0 1 2]]\n",
            "\n",
            "  [[3 3 4]\n",
            "   [1 0 3]\n",
            "   [1 2 1]]\n",
            "\n",
            "  [[3 4 0]\n",
            "   [0 3 0]\n",
            "   [2 1 4]]\n",
            "\n",
            "  [[4 0 1]\n",
            "   [3 0 0]\n",
            "   [1 4 2]]\n",
            "\n",
            "  [[0 1 1]\n",
            "   [0 0 0]\n",
            "   [4 2 1]]\n",
            "\n",
            "  [[1 1 1]\n",
            "   [0 0 3]\n",
            "   [2 1 1]]\n",
            "\n",
            "  [[1 1 1]\n",
            "   [0 3 3]\n",
            "   [1 1 3]]]]\n"
          ]
        }
      ],
      "source": [
        "Z = np.random.randint(0,5,(10,10))\n",
        "print(sliding_window_view(Z, window_shape=(3, 3)))"
      ]
    },
    {
      "cell_type": "markdown",
      "metadata": {
        "id": "NjvcMeMUTKWA"
      },
      "source": [
        "#### 85. Create a 2D array subclass such that Z\\[i,j\\] == Z\\[j,i\\] (★★★) \n",
        "(**hint**: class method)"
      ]
    },
    {
      "cell_type": "code",
      "execution_count": null,
      "metadata": {
        "id": "NHXVkTP6TKWA"
      },
      "outputs": [],
      "source": [
        ""
      ]
    },
    {
      "cell_type": "markdown",
      "metadata": {
        "id": "v6gJX0NqTKWA"
      },
      "source": [
        "#### 86. Consider a set of p matrices wich shape (n,n) and a set of p vectors with shape (n,1). How to compute the sum of of the p matrix products at once? (result has shape (n,1)) (★★★) \n",
        "(**hint**: np.tensordot)"
      ]
    },
    {
      "cell_type": "code",
      "execution_count": null,
      "metadata": {
        "id": "Mfa24QFmTKWB",
        "colab": {
          "base_uri": "https://localhost:8080/"
        },
        "outputId": "3c117db5-a668-4efa-b75d-0149bf2e108b"
      },
      "outputs": [
        {
          "output_type": "stream",
          "name": "stdout",
          "text": [
            "[[200.]\n",
            " [200.]\n",
            " [200.]\n",
            " [200.]\n",
            " [200.]\n",
            " [200.]\n",
            " [200.]\n",
            " [200.]\n",
            " [200.]\n",
            " [200.]\n",
            " [200.]\n",
            " [200.]\n",
            " [200.]\n",
            " [200.]\n",
            " [200.]\n",
            " [200.]\n",
            " [200.]\n",
            " [200.]\n",
            " [200.]\n",
            " [200.]]\n"
          ]
        }
      ],
      "source": [
        "p, n = 10, 20\n",
        "M = np.ones((p,n,n))\n",
        "V = np.ones((p,n,1))\n",
        "S = np.tensordot(M, V, axes=[[0, 2], [0, 1]])\n",
        "print(S)"
      ]
    },
    {
      "cell_type": "markdown",
      "metadata": {
        "id": "IKvfbQQMTKWB"
      },
      "source": [
        "#### 87. Consider a 16x16 array, how to get the block-sum (block size is 4x4)? (★★★) \n",
        "(**hint**: np.add.reduceat)"
      ]
    },
    {
      "cell_type": "code",
      "execution_count": null,
      "metadata": {
        "id": "JXXUqXzKTKWB"
      },
      "outputs": [],
      "source": [
        ""
      ]
    },
    {
      "cell_type": "markdown",
      "metadata": {
        "id": "VydALm1DTKWB"
      },
      "source": [
        "#### 88. How to implement the Game of Life using numpy arrays? (★★★)"
      ]
    },
    {
      "cell_type": "code",
      "execution_count": null,
      "metadata": {
        "id": "1APh6ZA2TKWB"
      },
      "outputs": [],
      "source": [
        ""
      ]
    },
    {
      "cell_type": "markdown",
      "metadata": {
        "id": "lWVSC-CBTKWB"
      },
      "source": [
        "#### 89. How to get the n largest values of an array (★★★) \n",
        "(**hint**: np.argsort | np.argpartition)"
      ]
    },
    {
      "cell_type": "code",
      "execution_count": null,
      "metadata": {
        "id": "qVn_-xEVTKWB",
        "colab": {
          "base_uri": "https://localhost:8080/"
        },
        "outputId": "9d2d2a33-e260-4633-ac75-2498948fddf9"
      },
      "outputs": [
        {
          "output_type": "stream",
          "name": "stdout",
          "text": [
            "[9995 9996 9997 9998 9999]\n"
          ]
        }
      ],
      "source": [
        "Z = np.arange(10000)\n",
        "np.random.shuffle(Z)\n",
        "n = 5\n",
        "print (Z[np.argsort(Z)[-n:]])"
      ]
    },
    {
      "cell_type": "markdown",
      "metadata": {
        "id": "EXgDCVLXTKWB"
      },
      "source": [
        "#### 90. Given an arbitrary number of vectors, build the cartesian product (every combinations of every item) (★★★) \n",
        "(**hint**: np.indices)"
      ]
    },
    {
      "cell_type": "code",
      "execution_count": null,
      "metadata": {
        "scrolled": true,
        "id": "91NH4tJuTKWC"
      },
      "outputs": [],
      "source": [
        ""
      ]
    },
    {
      "cell_type": "markdown",
      "metadata": {
        "id": "EzaHICRITKWC"
      },
      "source": [
        "#### 91. How to create a record array from a regular array? (★★★) \n",
        "(**hint**: np.core.records.fromarrays)"
      ]
    },
    {
      "cell_type": "code",
      "execution_count": null,
      "metadata": {
        "id": "ebJ89_R-TKWC"
      },
      "outputs": [],
      "source": [
        ""
      ]
    },
    {
      "cell_type": "markdown",
      "metadata": {
        "id": "XNNbALXZTKWC"
      },
      "source": [
        "#### 92. Consider a large vector Z, compute Z to the power of 3 using 3 different methods (★★★) \n",
        "(**hint**: np.power, \\*, np.einsum)"
      ]
    },
    {
      "cell_type": "code",
      "execution_count": null,
      "metadata": {
        "id": "4dvSxIBNTKWC"
      },
      "outputs": [],
      "source": [
        ""
      ]
    },
    {
      "cell_type": "markdown",
      "metadata": {
        "id": "UHra_6p4TKWC"
      },
      "source": [
        "#### 93. Consider two arrays A and B of shape (8,3) and (2,2). How to find rows of A that contain elements of each row of B regardless of the order of the elements in B? (★★★) \n",
        "(**hint**: np.where)"
      ]
    },
    {
      "cell_type": "code",
      "execution_count": null,
      "metadata": {
        "id": "qivmmohYTKWC",
        "colab": {
          "base_uri": "https://localhost:8080/"
        },
        "outputId": "aac5207f-0375-4a9e-c25c-922f380007d6"
      },
      "outputs": [
        {
          "output_type": "stream",
          "name": "stdout",
          "text": [
            "[3 6 7]\n"
          ]
        }
      ],
      "source": [
        "A = np.random.randint(0,5,(8,3))\n",
        "B = np.random.randint(0,5,(2,2))\n",
        "\n",
        "C = (A[..., np.newaxis, np.newaxis] == B)\n",
        "rows = np.where(C.any((3,1)).all(1))[0]\n",
        "print(rows)"
      ]
    },
    {
      "cell_type": "markdown",
      "metadata": {
        "id": "uH1__o2iTKWD"
      },
      "source": [
        "#### 94. Considering a 10x3 matrix, extract rows with unequal values (e.g. \\[2,2,3\\]) (★★★)"
      ]
    },
    {
      "cell_type": "code",
      "execution_count": null,
      "metadata": {
        "id": "IQ-EK4pHTKWD"
      },
      "outputs": [],
      "source": [
        "Z = np.random.randint(0,5,(10,3))\n",
        "print(Z)\n"
      ]
    },
    {
      "cell_type": "markdown",
      "metadata": {
        "id": "kTT94otiTKWD"
      },
      "source": [
        "#### 95. Convert a vector of ints into a matrix binary representation (★★★) \n",
        "(**hint**: np.unpackbits)"
      ]
    },
    {
      "cell_type": "code",
      "execution_count": null,
      "metadata": {
        "id": "_z9J6vzRTKWD",
        "colab": {
          "base_uri": "https://localhost:8080/"
        },
        "outputId": "c82bbfd4-48f9-49d3-ba99-00d4865dad27"
      },
      "outputs": [
        {
          "output_type": "stream",
          "name": "stdout",
          "text": [
            "[[0 0 0 0 0 0 0 0]\n",
            " [0 0 0 0 0 0 0 1]\n",
            " [0 0 0 0 0 0 1 0]\n",
            " [0 0 0 0 0 0 1 1]\n",
            " [0 0 0 0 1 1 1 1]\n",
            " [0 0 0 1 0 0 0 0]\n",
            " [0 0 1 0 0 0 0 0]\n",
            " [0 1 0 0 0 0 0 0]\n",
            " [1 0 0 0 0 0 0 0]]\n"
          ]
        }
      ],
      "source": [
        "I = np.array([0, 1, 2, 3, 15, 16, 32, 64, 128])\n",
        "B = ((I.reshape(-1,1) & (2**np.arange(8))) != 0).astype(int)\n",
        "print(B[:,::-1])"
      ]
    },
    {
      "cell_type": "markdown",
      "metadata": {
        "id": "YECe8RquTKWD"
      },
      "source": [
        "#### 96. Given a two dimensional array, how to extract unique rows? (★★★) \n",
        "(**hint**: np.ascontiguousarray)"
      ]
    },
    {
      "cell_type": "code",
      "execution_count": null,
      "metadata": {
        "id": "USrmwSgaTKWD",
        "colab": {
          "base_uri": "https://localhost:8080/"
        },
        "outputId": "024dae64-d876-427e-be55-0b4758486e8e"
      },
      "outputs": [
        {
          "output_type": "stream",
          "name": "stdout",
          "text": [
            "[[0 0 1]\n",
            " [0 1 0]\n",
            " [0 1 1]\n",
            " [1 1 0]\n",
            " [1 1 1]]\n"
          ]
        }
      ],
      "source": [
        "Z = np.random.randint(0,2,(6,3))\n",
        "uZ = np.unique(Z, axis=0)\n",
        "print(uZ)"
      ]
    },
    {
      "cell_type": "markdown",
      "metadata": {
        "id": "Ohd1DpYbTKWD"
      },
      "source": [
        "#### 97. Considering 2 vectors A & B, write the einsum equivalent of inner, outer, sum, and mul function (★★★) \n",
        "(**hint**: np.einsum)"
      ]
    },
    {
      "cell_type": "code",
      "execution_count": null,
      "metadata": {
        "id": "gWHjAXseTKWD"
      },
      "outputs": [],
      "source": [
        ""
      ]
    },
    {
      "cell_type": "markdown",
      "metadata": {
        "id": "a33gbALPTKWE"
      },
      "source": [
        "#### 98. Considering a path described by two vectors (X,Y), how to sample it using equidistant samples (★★★)? \n",
        "(**hint**: np.cumsum, np.interp)"
      ]
    },
    {
      "cell_type": "code",
      "execution_count": null,
      "metadata": {
        "collapsed": true,
        "id": "R_naoK6PTKWE"
      },
      "outputs": [],
      "source": [
        ""
      ]
    },
    {
      "cell_type": "markdown",
      "metadata": {
        "id": "cj9hVtQeTKWE"
      },
      "source": [
        "#### 99. Given an integer n and a 2D array X, select from X the rows which can be interpreted as draws from a multinomial distribution with n degrees, i.e., the rows which only contain integers and which sum to n. (★★★) \n",
        "(**hint**: np.logical\\_and.reduce, np.mod)"
      ]
    },
    {
      "cell_type": "code",
      "execution_count": null,
      "metadata": {
        "id": "QlQGQvKuTKWE",
        "colab": {
          "base_uri": "https://localhost:8080/"
        },
        "outputId": "ea92651a-d6fe-435e-d5a9-8d8864a3fb87"
      },
      "outputs": [
        {
          "output_type": "stream",
          "name": "stdout",
          "text": [
            "[[2. 0. 1. 1.]]\n"
          ]
        }
      ],
      "source": [
        "X = np.asarray([[1.0, 0.0, 3.0, 8.0],\n",
        "                [2.0, 0.0, 1.0, 1.0],\n",
        "                [1.5, 2.5, 1.0, 0.0]])\n",
        "n = 4\n",
        "M = np.logical_and.reduce(np.mod(X, 1) == 0, axis=-1)\n",
        "M &= (X.sum(axis=-1) == n)\n",
        "print(X[M])"
      ]
    },
    {
      "cell_type": "markdown",
      "metadata": {
        "id": "4Jc7BxUBTKWE"
      },
      "source": [
        "#### 100. Compute bootstrapped 95% confidence intervals for the mean of a 1D array X (i.e., resample the elements of an array with replacement N times, compute the mean of each sample, and then compute percentiles over the means). (★★★) \n",
        "(**hint**: np.percentile)"
      ]
    },
    {
      "cell_type": "code",
      "execution_count": null,
      "metadata": {
        "id": "as5jQ4Q8TKWE"
      },
      "outputs": [],
      "source": [
        ""
      ]
    }
  ],
  "metadata": {
    "kernelspec": {
      "display_name": "Python 3",
      "language": "python",
      "name": "python3"
    },
    "language_info": {
      "codemirror_mode": {
        "name": "ipython",
        "version": 3
      },
      "file_extension": ".py",
      "mimetype": "text/x-python",
      "name": "python",
      "nbconvert_exporter": "python",
      "pygments_lexer": "ipython3",
      "version": "3.8.3"
    },
    "colab": {
      "name": "Numpy_tasks.ipynb",
      "provenance": [],
      "collapsed_sections": [
        "SyeMOW66TKVy",
        "mdYo3CdATKV4",
        "zT8wYpfRTKV-",
        "NjvcMeMUTKWA",
        "VydALm1DTKWB",
        "EzaHICRITKWC",
        "XNNbALXZTKWC"
      ]
    }
  },
  "nbformat": 4,
  "nbformat_minor": 0
}